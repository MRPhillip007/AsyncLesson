{
  "cells": [
    {
      "cell_type": "markdown",
      "metadata": {
        "id": "view-in-github",
        "colab_type": "text"
      },
      "source": [
        "<a href=\"https://colab.research.google.com/github/MRPhillip007/AsyncLesson/blob/master/Copy_of_ZkSync_Novoe_ORIGINAL.ipynb\" target=\"_parent\"><img src=\"https://colab.research.google.com/assets/colab-badge.svg\" alt=\"Open In Colab\"/></a>"
      ]
    },
    {
      "cell_type": "code",
      "execution_count": null,
      "metadata": {
        "id": "9u7BHvPSXi_N"
      },
      "outputs": [],
      "source": [
        "router_abi = '[{\"inputs\":[{\"internalType\":\"address\",\"name\":\"_vault\",\"type\":\"address\"},{\"internalType\":\"address\",\"name\":\"_wETH\",\"type\":\"address\"}],\"stateMutability\":\"nonpayable\",\"type\":\"constructor\"},{\"inputs\":[],\"name\":\"ApproveFailed\",\"type\":\"error\"},{\"inputs\":[],\"name\":\"Expired\",\"type\":\"error\"},{\"inputs\":[],\"name\":\"NotEnoughLiquidityMinted\",\"type\":\"error\"},{\"inputs\":[],\"name\":\"TooLittleReceived\",\"type\":\"error\"},{\"inputs\":[],\"name\":\"TransferFromFailed\",\"type\":\"error\"},{\"inputs\":[{\"internalType\":\"address\",\"name\":\"pool\",\"type\":\"address\"},{\"components\":[{\"internalType\":\"address\",\"name\":\"token\",\"type\":\"address\"},{\"internalType\":\"uint256\",\"name\":\"amount\",\"type\":\"uint256\"}],\"internalType\":\"struct SyncSwapRouter.TokenInput[]\",\"name\":\"inputs\",\"type\":\"tuple[]\"},{\"internalType\":\"bytes\",\"name\":\"data\",\"type\":\"bytes\"},{\"internalType\":\"uint256\",\"name\":\"minLiquidity\",\"type\":\"uint256\"},{\"internalType\":\"address\",\"name\":\"callback\",\"type\":\"address\"},{\"internalType\":\"bytes\",\"name\":\"callbackData\",\"type\":\"bytes\"}],\"name\":\"addLiquidity\",\"outputs\":[{\"internalType\":\"uint256\",\"name\":\"liquidity\",\"type\":\"uint256\"}],\"stateMutability\":\"payable\",\"type\":\"function\"},{\"inputs\":[{\"internalType\":\"address\",\"name\":\"pool\",\"type\":\"address\"},{\"components\":[{\"internalType\":\"address\",\"name\":\"token\",\"type\":\"address\"},{\"internalType\":\"uint256\",\"name\":\"amount\",\"type\":\"uint256\"}],\"internalType\":\"struct SyncSwapRouter.TokenInput[]\",\"name\":\"inputs\",\"type\":\"tuple[]\"},{\"internalType\":\"bytes\",\"name\":\"data\",\"type\":\"bytes\"},{\"internalType\":\"uint256\",\"name\":\"minLiquidity\",\"type\":\"uint256\"},{\"internalType\":\"address\",\"name\":\"callback\",\"type\":\"address\"},{\"internalType\":\"bytes\",\"name\":\"callbackData\",\"type\":\"bytes\"}],\"name\":\"addLiquidity2\",\"outputs\":[{\"internalType\":\"uint256\",\"name\":\"liquidity\",\"type\":\"uint256\"}],\"stateMutability\":\"payable\",\"type\":\"function\"},{\"inputs\":[{\"internalType\":\"address\",\"name\":\"pool\",\"type\":\"address\"},{\"components\":[{\"internalType\":\"address\",\"name\":\"token\",\"type\":\"address\"},{\"internalType\":\"uint256\",\"name\":\"amount\",\"type\":\"uint256\"}],\"internalType\":\"struct SyncSwapRouter.TokenInput[]\",\"name\":\"inputs\",\"type\":\"tuple[]\"},{\"internalType\":\"bytes\",\"name\":\"data\",\"type\":\"bytes\"},{\"internalType\":\"uint256\",\"name\":\"minLiquidity\",\"type\":\"uint256\"},{\"internalType\":\"address\",\"name\":\"callback\",\"type\":\"address\"},{\"internalType\":\"bytes\",\"name\":\"callbackData\",\"type\":\"bytes\"},{\"components\":[{\"internalType\":\"address\",\"name\":\"token\",\"type\":\"address\"},{\"internalType\":\"uint256\",\"name\":\"approveAmount\",\"type\":\"uint256\"},{\"internalType\":\"uint256\",\"name\":\"deadline\",\"type\":\"uint256\"},{\"internalType\":\"uint8\",\"name\":\"v\",\"type\":\"uint8\"},{\"internalType\":\"bytes32\",\"name\":\"r\",\"type\":\"bytes32\"},{\"internalType\":\"bytes32\",\"name\":\"s\",\"type\":\"bytes32\"}],\"internalType\":\"struct IRouter.SplitPermitParams[]\",\"name\":\"permits\",\"type\":\"tuple[]\"}],\"name\":\"addLiquidityWithPermit\",\"outputs\":[{\"internalType\":\"uint256\",\"name\":\"liquidity\",\"type\":\"uint256\"}],\"stateMutability\":\"payable\",\"type\":\"function\"},{\"inputs\":[{\"internalType\":\"address\",\"name\":\"pool\",\"type\":\"address\"},{\"components\":[{\"internalType\":\"address\",\"name\":\"token\",\"type\":\"address\"},{\"internalType\":\"uint256\",\"name\":\"amount\",\"type\":\"uint256\"}],\"internalType\":\"struct SyncSwapRouter.TokenInput[]\",\"name\":\"inputs\",\"type\":\"tuple[]\"},{\"internalType\":\"bytes\",\"name\":\"data\",\"type\":\"bytes\"},{\"internalType\":\"uint256\",\"name\":\"minLiquidity\",\"type\":\"uint256\"},{\"internalType\":\"address\",\"name\":\"callback\",\"type\":\"address\"},{\"internalType\":\"bytes\",\"name\":\"callbackData\",\"type\":\"bytes\"},{\"components\":[{\"internalType\":\"address\",\"name\":\"token\",\"type\":\"address\"},{\"internalType\":\"uint256\",\"name\":\"approveAmount\",\"type\":\"uint256\"},{\"internalType\":\"uint256\",\"name\":\"deadline\",\"type\":\"uint256\"},{\"internalType\":\"uint8\",\"name\":\"v\",\"type\":\"uint8\"},{\"internalType\":\"bytes32\",\"name\":\"r\",\"type\":\"bytes32\"},{\"internalType\":\"bytes32\",\"name\":\"s\",\"type\":\"bytes32\"}],\"internalType\":\"struct IRouter.SplitPermitParams[]\",\"name\":\"permits\",\"type\":\"tuple[]\"}],\"name\":\"addLiquidityWithPermit2\",\"outputs\":[{\"internalType\":\"uint256\",\"name\":\"liquidity\",\"type\":\"uint256\"}],\"stateMutability\":\"payable\",\"type\":\"function\"},{\"inputs\":[{\"internalType\":\"address\",\"name\":\"pool\",\"type\":\"address\"},{\"internalType\":\"uint256\",\"name\":\"liquidity\",\"type\":\"uint256\"},{\"internalType\":\"bytes\",\"name\":\"data\",\"type\":\"bytes\"},{\"internalType\":\"uint256[]\",\"name\":\"minAmounts\",\"type\":\"uint256[]\"},{\"internalType\":\"address\",\"name\":\"callback\",\"type\":\"address\"},{\"internalType\":\"bytes\",\"name\":\"callbackData\",\"type\":\"bytes\"}],\"name\":\"burnLiquidity\",\"outputs\":[{\"components\":[{\"internalType\":\"address\",\"name\":\"token\",\"type\":\"address\"},{\"internalType\":\"uint256\",\"name\":\"amount\",\"type\":\"uint256\"}],\"internalType\":\"struct IPool.TokenAmount[]\",\"name\":\"amounts\",\"type\":\"tuple[]\"}],\"stateMutability\":\"nonpayable\",\"type\":\"function\"},{\"inputs\":[{\"internalType\":\"address\",\"name\":\"pool\",\"type\":\"address\"},{\"internalType\":\"uint256\",\"name\":\"liquidity\",\"type\":\"uint256\"},{\"internalType\":\"bytes\",\"name\":\"data\",\"type\":\"bytes\"},{\"internalType\":\"uint256\",\"name\":\"minAmount\",\"type\":\"uint256\"},{\"internalType\":\"address\",\"name\":\"callback\",\"type\":\"address\"},{\"internalType\":\"bytes\",\"name\":\"callbackData\",\"type\":\"bytes\"}],\"name\":\"burnLiquiditySingle\",\"outputs\":[{\"components\":[{\"internalType\":\"address\",\"name\":\"token\",\"type\":\"address\"},{\"internalType\":\"uint256\",\"name\":\"amount\",\"type\":\"uint256\"}],\"internalType\":\"struct IPool.TokenAmount\",\"name\":\"amountOut\",\"type\":\"tuple\"}],\"stateMutability\":\"nonpayable\",\"type\":\"function\"},{\"inputs\":[{\"internalType\":\"address\",\"name\":\"pool\",\"type\":\"address\"},{\"internalType\":\"uint256\",\"name\":\"liquidity\",\"type\":\"uint256\"},{\"internalType\":\"bytes\",\"name\":\"data\",\"type\":\"bytes\"},{\"internalType\":\"uint256\",\"name\":\"minAmount\",\"type\":\"uint256\"},{\"internalType\":\"address\",\"name\":\"callback\",\"type\":\"address\"},{\"internalType\":\"bytes\",\"name\":\"callbackData\",\"type\":\"bytes\"},{\"components\":[{\"internalType\":\"uint256\",\"name\":\"approveAmount\",\"type\":\"uint256\"},{\"internalType\":\"uint256\",\"name\":\"deadline\",\"type\":\"uint256\"},{\"internalType\":\"bytes\",\"name\":\"signature\",\"type\":\"bytes\"}],\"internalType\":\"struct IRouter.ArrayPermitParams\",\"name\":\"permit\",\"type\":\"tuple\"}],\"name\":\"burnLiquiditySingleWithPermit\",\"outputs\":[{\"components\":[{\"internalType\":\"address\",\"name\":\"token\",\"type\":\"address\"},{\"internalType\":\"uint256\",\"name\":\"amount\",\"type\":\"uint256\"}],\"internalType\":\"struct IPool.TokenAmount\",\"name\":\"amountOut\",\"type\":\"tuple\"}],\"stateMutability\":\"nonpayable\",\"type\":\"function\"},{\"inputs\":[{\"internalType\":\"address\",\"name\":\"pool\",\"type\":\"address\"},{\"internalType\":\"uint256\",\"name\":\"liquidity\",\"type\":\"uint256\"},{\"internalType\":\"bytes\",\"name\":\"data\",\"type\":\"bytes\"},{\"internalType\":\"uint256[]\",\"name\":\"minAmounts\",\"type\":\"uint256[]\"},{\"internalType\":\"address\",\"name\":\"callback\",\"type\":\"address\"},{\"internalType\":\"bytes\",\"name\":\"callbackData\",\"type\":\"bytes\"},{\"components\":[{\"internalType\":\"uint256\",\"name\":\"approveAmount\",\"type\":\"uint256\"},{\"internalType\":\"uint256\",\"name\":\"deadline\",\"type\":\"uint256\"},{\"internalType\":\"bytes\",\"name\":\"signature\",\"type\":\"bytes\"}],\"internalType\":\"struct IRouter.ArrayPermitParams\",\"name\":\"permit\",\"type\":\"tuple\"}],\"name\":\"burnLiquidityWithPermit\",\"outputs\":[{\"components\":[{\"internalType\":\"address\",\"name\":\"token\",\"type\":\"address\"},{\"internalType\":\"uint256\",\"name\":\"amount\",\"type\":\"uint256\"}],\"internalType\":\"struct IPool.TokenAmount[]\",\"name\":\"amounts\",\"type\":\"tuple[]\"}],\"stateMutability\":\"nonpayable\",\"type\":\"function\"},{\"inputs\":[{\"internalType\":\"address\",\"name\":\"_factory\",\"type\":\"address\"},{\"internalType\":\"bytes\",\"name\":\"data\",\"type\":\"bytes\"}],\"name\":\"createPool\",\"outputs\":[{\"internalType\":\"address\",\"name\":\"\",\"type\":\"address\"}],\"stateMutability\":\"payable\",\"type\":\"function\"},{\"inputs\":[{\"internalType\":\"address\",\"name\":\"\",\"type\":\"address\"},{\"internalType\":\"uint256\",\"name\":\"\",\"type\":\"uint256\"}],\"name\":\"enteredPools\",\"outputs\":[{\"internalType\":\"address\",\"name\":\"\",\"type\":\"address\"}],\"stateMutability\":\"view\",\"type\":\"function\"},{\"inputs\":[{\"internalType\":\"address\",\"name\":\"account\",\"type\":\"address\"}],\"name\":\"enteredPoolsLength\",\"outputs\":[{\"internalType\":\"uint256\",\"name\":\"\",\"type\":\"uint256\"}],\"stateMutability\":\"view\",\"type\":\"function\"},{\"inputs\":[{\"internalType\":\"address\",\"name\":\"\",\"type\":\"address\"},{\"internalType\":\"address\",\"name\":\"\",\"type\":\"address\"}],\"name\":\"isPoolEntered\",\"outputs\":[{\"internalType\":\"bool\",\"name\":\"\",\"type\":\"bool\"}],\"stateMutability\":\"view\",\"type\":\"function\"},{\"inputs\":[{\"internalType\":\"bytes[]\",\"name\":\"data\",\"type\":\"bytes[]\"}],\"name\":\"multicall\",\"outputs\":[{\"internalType\":\"bytes[]\",\"name\":\"results\",\"type\":\"bytes[]\"}],\"stateMutability\":\"payable\",\"type\":\"function\"},{\"inputs\":[{\"internalType\":\"address\",\"name\":\"token\",\"type\":\"address\"},{\"internalType\":\"uint256\",\"name\":\"value\",\"type\":\"uint256\"},{\"internalType\":\"uint256\",\"name\":\"deadline\",\"type\":\"uint256\"},{\"internalType\":\"uint8\",\"name\":\"v\",\"type\":\"uint8\"},{\"internalType\":\"bytes32\",\"name\":\"r\",\"type\":\"bytes32\"},{\"internalType\":\"bytes32\",\"name\":\"s\",\"type\":\"bytes32\"}],\"name\":\"selfPermit\",\"outputs\":[],\"stateMutability\":\"payable\",\"type\":\"function\"},{\"inputs\":[{\"internalType\":\"address\",\"name\":\"token\",\"type\":\"address\"},{\"internalType\":\"uint256\",\"name\":\"value\",\"type\":\"uint256\"},{\"internalType\":\"uint256\",\"name\":\"deadline\",\"type\":\"uint256\"},{\"internalType\":\"bytes\",\"name\":\"signature\",\"type\":\"bytes\"}],\"name\":\"selfPermit2\",\"outputs\":[],\"stateMutability\":\"payable\",\"type\":\"function\"},{\"inputs\":[{\"internalType\":\"address\",\"name\":\"token\",\"type\":\"address\"},{\"internalType\":\"uint256\",\"name\":\"value\",\"type\":\"uint256\"},{\"internalType\":\"uint256\",\"name\":\"deadline\",\"type\":\"uint256\"},{\"internalType\":\"bytes\",\"name\":\"signature\",\"type\":\"bytes\"}],\"name\":\"selfPermit2IfNecessary\",\"outputs\":[],\"stateMutability\":\"payable\",\"type\":\"function\"},{\"inputs\":[{\"internalType\":\"address\",\"name\":\"token\",\"type\":\"address\"},{\"internalType\":\"uint256\",\"name\":\"nonce\",\"type\":\"uint256\"},{\"internalType\":\"uint256\",\"name\":\"expiry\",\"type\":\"uint256\"},{\"internalType\":\"uint8\",\"name\":\"v\",\"type\":\"uint8\"},{\"internalType\":\"bytes32\",\"name\":\"r\",\"type\":\"bytes32\"},{\"internalType\":\"bytes32\",\"name\":\"s\",\"type\":\"bytes32\"}],\"name\":\"selfPermitAllowed\",\"outputs\":[],\"stateMutability\":\"payable\",\"type\":\"function\"},{\"inputs\":[{\"internalType\":\"address\",\"name\":\"token\",\"type\":\"address\"},{\"internalType\":\"uint256\",\"name\":\"nonce\",\"type\":\"uint256\"},{\"internalType\":\"uint256\",\"name\":\"expiry\",\"type\":\"uint256\"},{\"internalType\":\"uint8\",\"name\":\"v\",\"type\":\"uint8\"},{\"internalType\":\"bytes32\",\"name\":\"r\",\"type\":\"bytes32\"},{\"internalType\":\"bytes32\",\"name\":\"s\",\"type\":\"bytes32\"}],\"name\":\"selfPermitAllowedIfNecessary\",\"outputs\":[],\"stateMutability\":\"payable\",\"type\":\"function\"},{\"inputs\":[{\"internalType\":\"address\",\"name\":\"token\",\"type\":\"address\"},{\"internalType\":\"uint256\",\"name\":\"value\",\"type\":\"uint256\"},{\"internalType\":\"uint256\",\"name\":\"deadline\",\"type\":\"uint256\"},{\"internalType\":\"uint8\",\"name\":\"v\",\"type\":\"uint8\"},{\"internalType\":\"bytes32\",\"name\":\"r\",\"type\":\"bytes32\"},{\"internalType\":\"bytes32\",\"name\":\"s\",\"type\":\"bytes32\"}],\"name\":\"selfPermitIfNecessary\",\"outputs\":[],\"stateMutability\":\"payable\",\"type\":\"function\"},{\"inputs\":[{\"internalType\":\"address\",\"name\":\"stakingPool\",\"type\":\"address\"},{\"internalType\":\"address\",\"name\":\"token\",\"type\":\"address\"},{\"internalType\":\"uint256\",\"name\":\"amount\",\"type\":\"uint256\"},{\"internalType\":\"address\",\"name\":\"onBehalf\",\"type\":\"address\"}],\"name\":\"stake\",\"outputs\":[],\"stateMutability\":\"nonpayable\",\"type\":\"function\"},{\"inputs\":[{\"components\":[{\"components\":[{\"internalType\":\"address\",\"name\":\"pool\",\"type\":\"address\"},{\"internalType\":\"bytes\",\"name\":\"data\",\"type\":\"bytes\"},{\"internalType\":\"address\",\"name\":\"callback\",\"type\":\"address\"},{\"internalType\":\"bytes\",\"name\":\"callbackData\",\"type\":\"bytes\"}],\"internalType\":\"struct IRouter.SwapStep[]\",\"name\":\"steps\",\"type\":\"tuple[]\"},{\"internalType\":\"address\",\"name\":\"tokenIn\",\"type\":\"address\"},{\"internalType\":\"uint256\",\"name\":\"amountIn\",\"type\":\"uint256\"}],\"internalType\":\"struct IRouter.SwapPath[]\",\"name\":\"paths\",\"type\":\"tuple[]\"},{\"internalType\":\"uint256\",\"name\":\"amountOutMin\",\"type\":\"uint256\"},{\"internalType\":\"uint256\",\"name\":\"deadline\",\"type\":\"uint256\"}],\"name\":\"swap\",\"outputs\":[{\"components\":[{\"internalType\":\"address\",\"name\":\"token\",\"type\":\"address\"},{\"internalType\":\"uint256\",\"name\":\"amount\",\"type\":\"uint256\"}],\"internalType\":\"struct IPool.TokenAmount\",\"name\":\"amountOut\",\"type\":\"tuple\"}],\"stateMutability\":\"payable\",\"type\":\"function\"},{\"inputs\":[{\"components\":[{\"components\":[{\"internalType\":\"address\",\"name\":\"pool\",\"type\":\"address\"},{\"internalType\":\"bytes\",\"name\":\"data\",\"type\":\"bytes\"},{\"internalType\":\"address\",\"name\":\"callback\",\"type\":\"address\"},{\"internalType\":\"bytes\",\"name\":\"callbackData\",\"type\":\"bytes\"}],\"internalType\":\"struct IRouter.SwapStep[]\",\"name\":\"steps\",\"type\":\"tuple[]\"},{\"internalType\":\"address\",\"name\":\"tokenIn\",\"type\":\"address\"},{\"internalType\":\"uint256\",\"name\":\"amountIn\",\"type\":\"uint256\"}],\"internalType\":\"struct IRouter.SwapPath[]\",\"name\":\"paths\",\"type\":\"tuple[]\"},{\"internalType\":\"uint256\",\"name\":\"amountOutMin\",\"type\":\"uint256\"},{\"internalType\":\"uint256\",\"name\":\"deadline\",\"type\":\"uint256\"},{\"components\":[{\"internalType\":\"address\",\"name\":\"token\",\"type\":\"address\"},{\"internalType\":\"uint256\",\"name\":\"approveAmount\",\"type\":\"uint256\"},{\"internalType\":\"uint256\",\"name\":\"deadline\",\"type\":\"uint256\"},{\"internalType\":\"uint8\",\"name\":\"v\",\"type\":\"uint8\"},{\"internalType\":\"bytes32\",\"name\":\"r\",\"type\":\"bytes32\"},{\"internalType\":\"bytes32\",\"name\":\"s\",\"type\":\"bytes32\"}],\"internalType\":\"struct IRouter.SplitPermitParams\",\"name\":\"permit\",\"type\":\"tuple\"}],\"name\":\"swapWithPermit\",\"outputs\":[{\"components\":[{\"internalType\":\"address\",\"name\":\"token\",\"type\":\"address\"},{\"internalType\":\"uint256\",\"name\":\"amount\",\"type\":\"uint256\"}],\"internalType\":\"struct IPool.TokenAmount\",\"name\":\"amountOut\",\"type\":\"tuple\"}],\"stateMutability\":\"payable\",\"type\":\"function\"},{\"inputs\":[],\"name\":\"vault\",\"outputs\":[{\"internalType\":\"address\",\"name\":\"\",\"type\":\"address\"}],\"stateMutability\":\"view\",\"type\":\"function\"},{\"inputs\":[],\"name\":\"wETH\",\"outputs\":[{\"internalType\":\"address\",\"name\":\"\",\"type\":\"address\"}],\"stateMutability\":\"view\",\"type\":\"function\"}]'\n",
        "\n",
        "usdc_abi = '[{\"inputs\":[{\"internalType\":\"address\",\"name\":\"_l2Bridge\",\"type\":\"address\"},{\"internalType\":\"address\",\"name\":\"_l1Token\",\"type\":\"address\"},{\"internalType\":\"address\",\"name\":\"owner\",\"type\":\"address\"},{\"internalType\":\"string\",\"name\":\"name\",\"type\":\"string\"},{\"internalType\":\"string\",\"name\":\"symbol\",\"type\":\"string\"},{\"internalType\":\"uint8\",\"name\":\"decimals\",\"type\":\"uint8\"}],\"stateMutability\":\"nonpayable\",\"type\":\"constructor\"},{\"anonymous\":false,\"inputs\":[{\"indexed\":true,\"internalType\":\"address\",\"name\":\"owner\",\"type\":\"address\"},{\"indexed\":true,\"internalType\":\"address\",\"name\":\"spender\",\"type\":\"address\"},{\"indexed\":false,\"internalType\":\"uint256\",\"name\":\"value\",\"type\":\"uint256\"}],\"name\":\"Approval\",\"type\":\"event\"},{\"anonymous\":false,\"inputs\":[{\"indexed\":true,\"internalType\":\"address\",\"name\":\"account\",\"type\":\"address\"}],\"name\":\"Blacklisted\",\"type\":\"event\"},{\"anonymous\":false,\"inputs\":[{\"indexed\":true,\"internalType\":\"address\",\"name\":\"newBlacklister\",\"type\":\"address\"}],\"name\":\"BlacklisterChanged\",\"type\":\"event\"},{\"anonymous\":false,\"inputs\":[{\"indexed\":true,\"internalType\":\"address\",\"name\":\"_account\",\"type\":\"address\"},{\"indexed\":false,\"internalType\":\"uint256\",\"name\":\"_amount\",\"type\":\"uint256\"}],\"name\":\"Burn\",\"type\":\"event\"},{\"anonymous\":false,\"inputs\":[{\"indexed\":true,\"internalType\":\"address\",\"name\":\"_account\",\"type\":\"address\"},{\"indexed\":false,\"internalType\":\"uint256\",\"name\":\"_amount\",\"type\":\"uint256\"}],\"name\":\"Mint\",\"type\":\"event\"},{\"anonymous\":false,\"inputs\":[{\"indexed\":true,\"internalType\":\"address\",\"name\":\"previousOwner\",\"type\":\"address\"},{\"indexed\":true,\"internalType\":\"address\",\"name\":\"newOwner\",\"type\":\"address\"}],\"name\":\"OwnerChanged\",\"type\":\"event\"},{\"anonymous\":false,\"inputs\":[{\"indexed\":false,\"internalType\":\"address\",\"name\":\"pauser\",\"type\":\"address\"}],\"name\":\"Paused\",\"type\":\"event\"},{\"anonymous\":false,\"inputs\":[{\"indexed\":true,\"internalType\":\"address\",\"name\":\"previousPauser\",\"type\":\"address\"},{\"indexed\":true,\"internalType\":\"address\",\"name\":\"newPauser\",\"type\":\"address\"}],\"name\":\"PauserChanged\",\"type\":\"event\"},{\"anonymous\":false,\"inputs\":[{\"indexed\":true,\"internalType\":\"address\",\"name\":\"from\",\"type\":\"address\"},{\"indexed\":true,\"internalType\":\"address\",\"name\":\"to\",\"type\":\"address\"},{\"indexed\":false,\"internalType\":\"uint256\",\"name\":\"value\",\"type\":\"uint256\"}],\"name\":\"Transfer\",\"type\":\"event\"},{\"anonymous\":false,\"inputs\":[{\"indexed\":true,\"internalType\":\"address\",\"name\":\"account\",\"type\":\"address\"}],\"name\":\"UnBlacklisted\",\"type\":\"event\"},{\"anonymous\":false,\"inputs\":[{\"indexed\":false,\"internalType\":\"address\",\"name\":\"pauser\",\"type\":\"address\"}],\"name\":\"Unpaused\",\"type\":\"event\"},{\"inputs\":[{\"internalType\":\"address\",\"name\":\"owner\",\"type\":\"address\"},{\"internalType\":\"address\",\"name\":\"spender\",\"type\":\"address\"}],\"name\":\"allowance\",\"outputs\":[{\"internalType\":\"uint256\",\"name\":\"\",\"type\":\"uint256\"}],\"stateMutability\":\"view\",\"type\":\"function\"},{\"inputs\":[{\"internalType\":\"address\",\"name\":\"spender\",\"type\":\"address\"},{\"internalType\":\"uint256\",\"name\":\"amount\",\"type\":\"uint256\"}],\"name\":\"approve\",\"outputs\":[{\"internalType\":\"bool\",\"name\":\"\",\"type\":\"bool\"}],\"stateMutability\":\"nonpayable\",\"type\":\"function\"},{\"inputs\":[{\"internalType\":\"address\",\"name\":\"account\",\"type\":\"address\"}],\"name\":\"balanceOf\",\"outputs\":[{\"internalType\":\"uint256\",\"name\":\"\",\"type\":\"uint256\"}],\"stateMutability\":\"view\",\"type\":\"function\"},{\"inputs\":[{\"internalType\":\"address\",\"name\":\"account\",\"type\":\"address\"}],\"name\":\"blacklist\",\"outputs\":[],\"stateMutability\":\"nonpayable\",\"type\":\"function\"},{\"inputs\":[],\"name\":\"blacklister\",\"outputs\":[{\"internalType\":\"address\",\"name\":\"\",\"type\":\"address\"}],\"stateMutability\":\"view\",\"type\":\"function\"},{\"inputs\":[{\"internalType\":\"address\",\"name\":\"account\",\"type\":\"address\"},{\"internalType\":\"uint256\",\"name\":\"amount\",\"type\":\"uint256\"}],\"name\":\"burn\",\"outputs\":[],\"stateMutability\":\"nonpayable\",\"type\":\"function\"},{\"inputs\":[{\"internalType\":\"address\",\"name\":\"account\",\"type\":\"address\"}],\"name\":\"changeOwner\",\"outputs\":[],\"stateMutability\":\"nonpayable\",\"type\":\"function\"},{\"inputs\":[],\"name\":\"decimals\",\"outputs\":[{\"internalType\":\"uint8\",\"name\":\"\",\"type\":\"uint8\"}],\"stateMutability\":\"view\",\"type\":\"function\"},{\"inputs\":[{\"internalType\":\"address\",\"name\":\"spender\",\"type\":\"address\"},{\"internalType\":\"uint256\",\"name\":\"subtractedValue\",\"type\":\"uint256\"}],\"name\":\"decreaseAllowance\",\"outputs\":[{\"internalType\":\"bool\",\"name\":\"\",\"type\":\"bool\"}],\"stateMutability\":\"nonpayable\",\"type\":\"function\"},{\"inputs\":[{\"internalType\":\"address\",\"name\":\"spender\",\"type\":\"address\"},{\"internalType\":\"uint256\",\"name\":\"addedValue\",\"type\":\"uint256\"}],\"name\":\"increaseAllowance\",\"outputs\":[{\"internalType\":\"bool\",\"name\":\"\",\"type\":\"bool\"}],\"stateMutability\":\"nonpayable\",\"type\":\"function\"},{\"inputs\":[{\"internalType\":\"address\",\"name\":\"account\",\"type\":\"address\"}],\"name\":\"isBlacklisted\",\"outputs\":[{\"internalType\":\"bool\",\"name\":\"\",\"type\":\"bool\"}],\"stateMutability\":\"view\",\"type\":\"function\"},{\"inputs\":[],\"name\":\"l1Token\",\"outputs\":[{\"internalType\":\"address\",\"name\":\"\",\"type\":\"address\"}],\"stateMutability\":\"view\",\"type\":\"function\"},{\"inputs\":[],\"name\":\"l2Bridge\",\"outputs\":[{\"internalType\":\"address\",\"name\":\"\",\"type\":\"address\"}],\"stateMutability\":\"view\",\"type\":\"function\"},{\"inputs\":[{\"internalType\":\"address\",\"name\":\"account\",\"type\":\"address\"},{\"internalType\":\"uint256\",\"name\":\"amount\",\"type\":\"uint256\"}],\"name\":\"mint\",\"outputs\":[],\"stateMutability\":\"nonpayable\",\"type\":\"function\"},{\"inputs\":[],\"name\":\"name\",\"outputs\":[{\"internalType\":\"string\",\"name\":\"\",\"type\":\"string\"}],\"stateMutability\":\"view\",\"type\":\"function\"},{\"inputs\":[],\"name\":\"owner\",\"outputs\":[{\"internalType\":\"address\",\"name\":\"\",\"type\":\"address\"}],\"stateMutability\":\"view\",\"type\":\"function\"},{\"inputs\":[],\"name\":\"pause\",\"outputs\":[],\"stateMutability\":\"nonpayable\",\"type\":\"function\"},{\"inputs\":[],\"name\":\"paused\",\"outputs\":[{\"internalType\":\"bool\",\"name\":\"\",\"type\":\"bool\"}],\"stateMutability\":\"view\",\"type\":\"function\"},{\"inputs\":[],\"name\":\"pauser\",\"outputs\":[{\"internalType\":\"address\",\"name\":\"\",\"type\":\"address\"}],\"stateMutability\":\"view\",\"type\":\"function\"},{\"inputs\":[{\"internalType\":\"address\",\"name\":\"account\",\"type\":\"address\"}],\"name\":\"setPauser\",\"outputs\":[],\"stateMutability\":\"nonpayable\",\"type\":\"function\"},{\"inputs\":[{\"internalType\":\"bytes4\",\"name\":\"_interfaceId\",\"type\":\"bytes4\"}],\"name\":\"supportsInterface\",\"outputs\":[{\"internalType\":\"bool\",\"name\":\"\",\"type\":\"bool\"}],\"stateMutability\":\"pure\",\"type\":\"function\"},{\"inputs\":[],\"name\":\"symbol\",\"outputs\":[{\"internalType\":\"string\",\"name\":\"\",\"type\":\"string\"}],\"stateMutability\":\"view\",\"type\":\"function\"},{\"inputs\":[],\"name\":\"totalSupply\",\"outputs\":[{\"internalType\":\"uint256\",\"name\":\"\",\"type\":\"uint256\"}],\"stateMutability\":\"view\",\"type\":\"function\"},{\"inputs\":[{\"internalType\":\"address\",\"name\":\"recipient\",\"type\":\"address\"},{\"internalType\":\"uint256\",\"name\":\"amount\",\"type\":\"uint256\"}],\"name\":\"transfer\",\"outputs\":[{\"internalType\":\"bool\",\"name\":\"\",\"type\":\"bool\"}],\"stateMutability\":\"nonpayable\",\"type\":\"function\"},{\"inputs\":[{\"internalType\":\"address\",\"name\":\"sender\",\"type\":\"address\"},{\"internalType\":\"address\",\"name\":\"recipient\",\"type\":\"address\"},{\"internalType\":\"uint256\",\"name\":\"amount\",\"type\":\"uint256\"}],\"name\":\"transferFrom\",\"outputs\":[{\"internalType\":\"bool\",\"name\":\"\",\"type\":\"bool\"}],\"stateMutability\":\"nonpayable\",\"type\":\"function\"},{\"inputs\":[{\"internalType\":\"address\",\"name\":\"account\",\"type\":\"address\"}],\"name\":\"unBlacklist\",\"outputs\":[],\"stateMutability\":\"nonpayable\",\"type\":\"function\"},{\"inputs\":[],\"name\":\"unpause\",\"outputs\":[],\"stateMutability\":\"nonpayable\",\"type\":\"function\"},{\"inputs\":[{\"internalType\":\"address\",\"name\":\"newBlacklister\",\"type\":\"address\"}],\"name\":\"updateBlacklister\",\"outputs\":[],\"stateMutability\":\"nonpayable\",\"type\":\"function\"}]'"
      ]
    },
    {
      "cell_type": "code",
      "execution_count": null,
      "metadata": {
        "colab": {
          "base_uri": "https://localhost:8080/"
        },
        "id": "-ppCT2T9MM8b",
        "outputId": "a84f3b97-a572-4a37-ef46-62124df56f61"
      },
      "outputs": [
        {
          "output_type": "stream",
          "name": "stdout",
          "text": [
            "Collecting web3\n",
            "  Downloading web3-6.14.0-py3-none-any.whl (1.6 MB)\n",
            "\u001b[2K     \u001b[90m━━━━━━━━━━━━━━━━━━━━━━━━━━━━━━━━━━━━━━━━\u001b[0m \u001b[32m1.6/1.6 MB\u001b[0m \u001b[31m7.5 MB/s\u001b[0m eta \u001b[36m0:00:00\u001b[0m\n",
            "\u001b[?25hRequirement already satisfied: aiohttp>=3.7.4.post0 in /usr/local/lib/python3.10/dist-packages (from web3) (3.9.1)\n",
            "Collecting eth-abi>=4.0.0 (from web3)\n",
            "  Downloading eth_abi-5.0.0-py3-none-any.whl (28 kB)\n",
            "Collecting eth-account>=0.8.0 (from web3)\n",
            "  Downloading eth_account-0.10.0-py3-none-any.whl (109 kB)\n",
            "\u001b[2K     \u001b[90m━━━━━━━━━━━━━━━━━━━━━━━━━━━━━━━━━━━━━━━━\u001b[0m \u001b[32m109.0/109.0 kB\u001b[0m \u001b[31m10.3 MB/s\u001b[0m eta \u001b[36m0:00:00\u001b[0m\n",
            "\u001b[?25hCollecting eth-hash[pycryptodome]>=0.5.1 (from web3)\n",
            "  Downloading eth_hash-0.6.0-py3-none-any.whl (8.6 kB)\n",
            "Collecting eth-typing>=3.0.0 (from web3)\n",
            "  Downloading eth_typing-4.0.0-py3-none-any.whl (14 kB)\n",
            "Collecting eth-utils>=2.1.0 (from web3)\n",
            "  Downloading eth_utils-3.0.0-py3-none-any.whl (77 kB)\n",
            "\u001b[2K     \u001b[90m━━━━━━━━━━━━━━━━━━━━━━━━━━━━━━━━━━━━━━━━\u001b[0m \u001b[32m77.8/77.8 kB\u001b[0m \u001b[31m11.3 MB/s\u001b[0m eta \u001b[36m0:00:00\u001b[0m\n",
            "\u001b[?25hCollecting hexbytes<0.4.0,>=0.1.0 (from web3)\n",
            "  Downloading hexbytes-0.3.1-py3-none-any.whl (5.9 kB)\n",
            "Requirement already satisfied: jsonschema>=4.0.0 in /usr/local/lib/python3.10/dist-packages (from web3) (4.19.2)\n",
            "Collecting lru-dict<1.3.0,>=1.1.6 (from web3)\n",
            "  Downloading lru_dict-1.2.0-cp310-cp310-manylinux_2_5_x86_64.manylinux1_x86_64.manylinux_2_17_x86_64.manylinux2014_x86_64.whl (28 kB)\n",
            "Collecting protobuf>=4.21.6 (from web3)\n",
            "  Downloading protobuf-4.25.2-cp37-abi3-manylinux2014_x86_64.whl (294 kB)\n",
            "\u001b[2K     \u001b[90m━━━━━━━━━━━━━━━━━━━━━━━━━━━━━━━━━━━━━━━━\u001b[0m \u001b[32m294.6/294.6 kB\u001b[0m \u001b[31m26.6 MB/s\u001b[0m eta \u001b[36m0:00:00\u001b[0m\n",
            "\u001b[?25hRequirement already satisfied: requests>=2.16.0 in /usr/local/lib/python3.10/dist-packages (from web3) (2.31.0)\n",
            "Requirement already satisfied: typing-extensions>=4.0.1 in /usr/local/lib/python3.10/dist-packages (from web3) (4.5.0)\n",
            "Collecting websockets>=10.0.0 (from web3)\n",
            "  Downloading websockets-12.0-cp310-cp310-manylinux_2_5_x86_64.manylinux1_x86_64.manylinux_2_17_x86_64.manylinux2014_x86_64.whl (130 kB)\n",
            "\u001b[2K     \u001b[90m━━━━━━━━━━━━━━━━━━━━━━━━━━━━━━━━━━━━━━━━\u001b[0m \u001b[32m130.2/130.2 kB\u001b[0m \u001b[31m14.9 MB/s\u001b[0m eta \u001b[36m0:00:00\u001b[0m\n",
            "\u001b[?25hCollecting pyunormalize>=15.0.0 (from web3)\n",
            "  Downloading pyunormalize-15.1.0.tar.gz (515 kB)\n",
            "\u001b[2K     \u001b[90m━━━━━━━━━━━━━━━━━━━━━━━━━━━━━━━━━━━━━━━━\u001b[0m \u001b[32m515.5/515.5 kB\u001b[0m \u001b[31m13.0 MB/s\u001b[0m eta \u001b[36m0:00:00\u001b[0m\n",
            "\u001b[?25h  Preparing metadata (setup.py) ... \u001b[?25l\u001b[?25hdone\n",
            "Requirement already satisfied: attrs>=17.3.0 in /usr/local/lib/python3.10/dist-packages (from aiohttp>=3.7.4.post0->web3) (23.2.0)\n",
            "Requirement already satisfied: multidict<7.0,>=4.5 in /usr/local/lib/python3.10/dist-packages (from aiohttp>=3.7.4.post0->web3) (6.0.4)\n",
            "Requirement already satisfied: yarl<2.0,>=1.0 in /usr/local/lib/python3.10/dist-packages (from aiohttp>=3.7.4.post0->web3) (1.9.4)\n",
            "Requirement already satisfied: frozenlist>=1.1.1 in /usr/local/lib/python3.10/dist-packages (from aiohttp>=3.7.4.post0->web3) (1.4.1)\n",
            "Requirement already satisfied: aiosignal>=1.1.2 in /usr/local/lib/python3.10/dist-packages (from aiohttp>=3.7.4.post0->web3) (1.3.1)\n",
            "Requirement already satisfied: async-timeout<5.0,>=4.0 in /usr/local/lib/python3.10/dist-packages (from aiohttp>=3.7.4.post0->web3) (4.0.3)\n",
            "Collecting parsimonious<0.10.0,>=0.9.0 (from eth-abi>=4.0.0->web3)\n",
            "  Downloading parsimonious-0.9.0.tar.gz (48 kB)\n",
            "\u001b[2K     \u001b[90m━━━━━━━━━━━━━━━━━━━━━━━━━━━━━━━━━━━━━━━━\u001b[0m \u001b[32m48.7/48.7 kB\u001b[0m \u001b[31m6.2 MB/s\u001b[0m eta \u001b[36m0:00:00\u001b[0m\n",
            "\u001b[?25h  Preparing metadata (setup.py) ... \u001b[?25l\u001b[?25hdone\n",
            "Collecting bitarray>=2.4.0 (from eth-account>=0.8.0->web3)\n",
            "  Downloading bitarray-2.9.2-cp310-cp310-manylinux_2_17_x86_64.manylinux2014_x86_64.whl (288 kB)\n",
            "\u001b[2K     \u001b[90m━━━━━━━━━━━━━━━━━━━━━━━━━━━━━━━━━━━━━━━━\u001b[0m \u001b[32m288.3/288.3 kB\u001b[0m \u001b[31m13.7 MB/s\u001b[0m eta \u001b[36m0:00:00\u001b[0m\n",
            "\u001b[?25hCollecting eth-keyfile>=0.6.0 (from eth-account>=0.8.0->web3)\n",
            "  Downloading eth_keyfile-0.7.0-py3-none-any.whl (7.4 kB)\n",
            "Collecting eth-keys>=0.4.0 (from eth-account>=0.8.0->web3)\n",
            "  Downloading eth_keys-0.5.0-py3-none-any.whl (21 kB)\n",
            "Collecting eth-rlp>=0.3.0 (from eth-account>=0.8.0->web3)\n",
            "  Downloading eth_rlp-1.0.0-py3-none-any.whl (4.9 kB)\n",
            "Collecting rlp>=1.0.0 (from eth-account>=0.8.0->web3)\n",
            "  Downloading rlp-4.0.0-py3-none-any.whl (20 kB)\n",
            "Collecting pycryptodome<4,>=3.6.6 (from eth-hash[pycryptodome]>=0.5.1->web3)\n",
            "  Downloading pycryptodome-3.20.0-cp35-abi3-manylinux_2_17_x86_64.manylinux2014_x86_64.whl (2.1 MB)\n",
            "\u001b[2K     \u001b[90m━━━━━━━━━━━━━━━━━━━━━━━━━━━━━━━━━━━━━━━━\u001b[0m \u001b[32m2.1/2.1 MB\u001b[0m \u001b[31m16.4 MB/s\u001b[0m eta \u001b[36m0:00:00\u001b[0m\n",
            "\u001b[?25hCollecting cytoolz>=0.10.1 (from eth-utils>=2.1.0->web3)\n",
            "  Downloading cytoolz-0.12.2-cp310-cp310-manylinux_2_17_x86_64.manylinux2014_x86_64.whl (1.9 MB)\n",
            "\u001b[2K     \u001b[90m━━━━━━━━━━━━━━━━━━━━━━━━━━━━━━━━━━━━━━━━\u001b[0m \u001b[32m1.9/1.9 MB\u001b[0m \u001b[31m21.9 MB/s\u001b[0m eta \u001b[36m0:00:00\u001b[0m\n",
            "\u001b[?25hRequirement already satisfied: jsonschema-specifications>=2023.03.6 in /usr/local/lib/python3.10/dist-packages (from jsonschema>=4.0.0->web3) (2023.12.1)\n",
            "Requirement already satisfied: referencing>=0.28.4 in /usr/local/lib/python3.10/dist-packages (from jsonschema>=4.0.0->web3) (0.32.1)\n",
            "Requirement already satisfied: rpds-py>=0.7.1 in /usr/local/lib/python3.10/dist-packages (from jsonschema>=4.0.0->web3) (0.17.1)\n",
            "Requirement already satisfied: charset-normalizer<4,>=2 in /usr/local/lib/python3.10/dist-packages (from requests>=2.16.0->web3) (3.3.2)\n",
            "Requirement already satisfied: idna<4,>=2.5 in /usr/local/lib/python3.10/dist-packages (from requests>=2.16.0->web3) (3.6)\n",
            "Requirement already satisfied: urllib3<3,>=1.21.1 in /usr/local/lib/python3.10/dist-packages (from requests>=2.16.0->web3) (2.0.7)\n",
            "Requirement already satisfied: certifi>=2017.4.17 in /usr/local/lib/python3.10/dist-packages (from requests>=2.16.0->web3) (2023.11.17)\n",
            "Requirement already satisfied: toolz>=0.8.0 in /usr/local/lib/python3.10/dist-packages (from cytoolz>=0.10.1->eth-utils>=2.1.0->web3) (0.12.0)\n",
            "Requirement already satisfied: regex>=2022.3.15 in /usr/local/lib/python3.10/dist-packages (from parsimonious<0.10.0,>=0.9.0->eth-abi>=4.0.0->web3) (2023.6.3)\n",
            "Building wheels for collected packages: pyunormalize, parsimonious\n",
            "  Building wheel for pyunormalize (setup.py) ... \u001b[?25l\u001b[?25hdone\n",
            "  Created wheel for pyunormalize: filename=pyunormalize-15.1.0-py3-none-any.whl size=516030 sha256=6863403aa84e4c0ae6c1d327eb96cdb0a65611e5b8439768833caa1cb3006936\n",
            "  Stored in directory: /root/.cache/pip/wheels/b8/b6/c6/6fc11f58d3fd02f387cf3b18479bb5c6d4143995d0fa401622\n",
            "  Building wheel for parsimonious (setup.py) ... \u001b[?25l\u001b[?25hdone\n",
            "  Created wheel for parsimonious: filename=parsimonious-0.9.0-py3-none-any.whl size=44298 sha256=eda42184ab6f61b704e1d54a993e920257fe40549902b212ce5081a7f4a6d3e5\n",
            "  Stored in directory: /root/.cache/pip/wheels/a8/6e/e1/5274cd97b5abf9c9fa5c7f51185d48bfc8095d8ce6ca251155\n",
            "Successfully built pyunormalize parsimonious\n",
            "Installing collected packages: lru-dict, bitarray, websockets, pyunormalize, pycryptodome, protobuf, parsimonious, hexbytes, eth-typing, eth-hash, cytoolz, eth-utils, rlp, eth-keys, eth-abi, eth-rlp, eth-keyfile, eth-account, web3\n",
            "  Attempting uninstall: protobuf\n",
            "    Found existing installation: protobuf 3.20.3\n",
            "    Uninstalling protobuf-3.20.3:\n",
            "      Successfully uninstalled protobuf-3.20.3\n",
            "\u001b[31mERROR: pip's dependency resolver does not currently take into account all the packages that are installed. This behaviour is the source of the following dependency conflicts.\n",
            "tensorboard 2.15.1 requires protobuf<4.24,>=3.19.6, but you have protobuf 4.25.2 which is incompatible.\n",
            "tensorflow-metadata 1.14.0 requires protobuf<4.21,>=3.20.3, but you have protobuf 4.25.2 which is incompatible.\u001b[0m\u001b[31m\n",
            "\u001b[0mSuccessfully installed bitarray-2.9.2 cytoolz-0.12.2 eth-abi-5.0.0 eth-account-0.10.0 eth-hash-0.6.0 eth-keyfile-0.7.0 eth-keys-0.5.0 eth-rlp-1.0.0 eth-typing-4.0.0 eth-utils-3.0.0 hexbytes-0.3.1 lru-dict-1.2.0 parsimonious-0.9.0 protobuf-4.25.2 pycryptodome-3.20.0 pyunormalize-15.1.0 rlp-4.0.0 web3-6.14.0 websockets-12.0\n",
            "Requirement already satisfied: eth_abi in /usr/local/lib/python3.10/dist-packages (5.0.0)\n",
            "Requirement already satisfied: eth-utils>=2.0.0 in /usr/local/lib/python3.10/dist-packages (from eth_abi) (3.0.0)\n",
            "Requirement already satisfied: eth-typing>=3.0.0 in /usr/local/lib/python3.10/dist-packages (from eth_abi) (4.0.0)\n",
            "Requirement already satisfied: parsimonious<0.10.0,>=0.9.0 in /usr/local/lib/python3.10/dist-packages (from eth_abi) (0.9.0)\n",
            "Requirement already satisfied: eth-hash>=0.3.1 in /usr/local/lib/python3.10/dist-packages (from eth-utils>=2.0.0->eth_abi) (0.6.0)\n",
            "Requirement already satisfied: cytoolz>=0.10.1 in /usr/local/lib/python3.10/dist-packages (from eth-utils>=2.0.0->eth_abi) (0.12.2)\n",
            "Requirement already satisfied: regex>=2022.3.15 in /usr/local/lib/python3.10/dist-packages (from parsimonious<0.10.0,>=0.9.0->eth_abi) (2023.6.3)\n",
            "Requirement already satisfied: toolz>=0.8.0 in /usr/local/lib/python3.10/dist-packages (from cytoolz>=0.10.1->eth-utils>=2.0.0->eth_abi) (0.12.0)\n"
          ]
        }
      ],
      "source": [
        "!pip install web3\n",
        "!pip install eth_abi\n",
        "from web3 import Web3\n",
        "from eth_abi import encode\n",
        "import time\n",
        "from tqdm import tqdm\n",
        "import random\n",
        "import decimal"
      ]
    },
    {
      "cell_type": "code",
      "execution_count": null,
      "metadata": {
        "id": "adgoKgylMQQi"
      },
      "outputs": [],
      "source": [
        "eth_infura = 'https://mainnet.infura.io/v3/aadac872a21a490b87a6523794acb56c'\n",
        "w3eth = Web3(Web3.HTTPProvider(eth_infura))\n",
        "\n",
        "\n",
        "\n",
        "zkrpc = 'https://rpc.ankr.com/zksync_era'\n",
        "w3 = Web3(Web3.HTTPProvider(zkrpc))\n",
        "router_address = w3.to_checksum_address('0x2da10A1e27bF85cEdD8FFb1AbBe97e53391C0295')\n",
        "\n",
        "router_contract = w3.eth.contract(w3.to_checksum_address(router_address), abi = router_abi)\n",
        "\n",
        "weth = w3.to_checksum_address('0x5aea5775959fbc2557cc8789bc1bf90a239d9a91')\n",
        "usdc = w3.to_checksum_address('0x3355df6D4c9C3035724Fd0e3914dE96A5a83aaf4')\n",
        "zat = w3.to_checksum_address('0x47EF4A5641992A72CFd57b9406c9D9cefEE8e0C4')\n",
        "\n",
        "\n",
        "\n",
        "\n",
        "zat_contract = w3.eth.contract(zat, abi = usdc_abi)\n",
        "\n",
        "ZERO_ADDRESS = w3.to_checksum_address('0x0000000000000000000000000000000000000000')\n",
        "withdrawMode = 1\n",
        "\n",
        "\n",
        "usdc_pooladdress = w3.to_checksum_address('0x80115c708E12eDd42E504c1cD52Aea96C547c05c')\n",
        "ZAT_pooladdress = w3.to_checksum_address ('0x2A936038B695F48b68a560cf01C4Cf8899616C5c')"
      ]
    },
    {
      "cell_type": "code",
      "execution_count": null,
      "metadata": {
        "id": "w1S13I09YqNo"
      },
      "outputs": [],
      "source": [
        "zenpanda = w3.to_checksum_address('0x4BE6f11Ee1310Ecf29A9d0130a12A9D0885e0c92')\n",
        "zenpandapool = w3.to_checksum_address('0x75dbAefacf5D3d958365C68aB1c8A4f62a79362C')\n",
        "zenpanda_contract = w3.eth.contract(zenpanda, abi = usdc_abi)\n",
        "\n",
        "hodl = w3.to_checksum_address('0xed4040fD47629e7c8FBB7DA76bb50B3e7695F0f2')\n",
        "hodlpool = w3.to_checksum_address('0x9BeC30fd825f5E8E9BC6A84914b8A3aB31742103')\n",
        "hodl_contract = w3.eth.contract(hodl, abi = usdc_abi)\n",
        "\n",
        "dvf = w3.to_checksum_address('0xBbD1bA24d589C319C86519646817F2F153c9B716')\n",
        "dvfpool = w3.to_checksum_address('0xAe092fcEc5fd04836b12e87DA0D7ed3A707b38B0')\n",
        "dvf_contract = w3.eth.contract(dvf, abi = usdc_abi)\n",
        "\n",
        "cheems = w3.to_checksum_address('0xd599dA85F8Fc4877e61f547dFAcffe1238A7149E')\n",
        "cheemspool = w3.to_checksum_address('0x08f328c72a9B420B7568415ED331a1c236E6f620')\n",
        "cheems_contract = w3.eth.contract(hodl, abi = usdc_abi)\n",
        "\n",
        "sis = w3.to_checksum_address('0xdd9f72afED3631a6C85b5369D84875e6c42f1827')\n",
        "sispool = w3.to_checksum_address('0xa9Afb8d03a49fF0f81EaF36e2ff914B0a5A14288')\n",
        "sis_contract = w3.eth.contract(sis, abi = usdc_abi)\n",
        "\n",
        "itp = w3.to_checksum_address('0xd03465338226ea0178337F4abb16FdD6df529F57')\n",
        "itppool = w3.to_checksum_address('0x650d42d01c342a165335f78d9f70532726c57397')\n",
        "itp_contract = w3.eth.contract(itp, abi = usdc_abi)\n",
        "\n",
        "zz = w3.to_checksum_address('0x1ab721f531Cab4c87d536bE8B985EAFCE17f0184')\n",
        "zzpool = w3.to_checksum_address('0x7c5E06AE254B31f2983d8d2908f2e2b9F0C11CD0')\n",
        "zz_contract = w3.eth.contract(zz, abi = usdc_abi)\n",
        "\n",
        "govi  = w3.to_checksum_address('0xD63eF5e9C628c8a0E8984CDfb7444AEE44B09044')\n",
        "govipool = w3.to_checksum_address('0x140190F9147cBa0215050aD8e379F3F54a5DA3cB')\n",
        "govi_contract = w3.eth.contract(govi, abi = usdc_abi)\n",
        "\n",
        "ful  = w3.to_checksum_address('0xe593853b4d603d5b8f21036Bb4AD0D1880097a6e')\n",
        "fulpool = w3.to_checksum_address('0x24F4614511F82829DD86515e92e7dE1881F85375')\n",
        "ful_contract = w3.eth.contract(ful, abi = usdc_abi)\n",
        "\n",
        "mav  = w3.to_checksum_address('0x787c09494Ec8Bcb24DcAf8659E7d5D69979eE508')\n",
        "mavpool = w3.to_checksum_address('0xbA239A41C1Cc974E543543B1820419065515bbbb')\n",
        "mav_contract = w3.eth.contract(mav, abi = usdc_abi)\n",
        "############\n",
        "kat = w3.to_checksum_address('0xCDb7D260c107499C80B4b748e8331c64595972a1')\n",
        "katpool = w3.to_checksum_address('0x82Bd8B5ac4971a4aF235aA9Dde0Bc0C9561F3e6E')\n",
        "kat_contract = w3.eth.contract(kat, abi = usdc_abi)\n",
        "\n",
        "ugold = w3.to_checksum_address('0x10d967f46b06580C4a87b05c78f04e4Df25C0DB0')\n",
        "ugoldpool = w3.to_checksum_address('0xeCfeAe6f8D7dF3D73728F8D2af3B896a258Ecd0e')\n",
        "ugold_contract = w3.eth.contract(ugold, abi = usdc_abi)\n",
        "\n",
        "zkusd = w3.to_checksum_address('0xfC7E56298657B002b3e656400E746b7212912757')\n",
        "zkusdpool = w3.to_checksum_address('0xF78B8CDBAA242451FEF742Dd2e6232f4c92Af900')\n",
        "zkusd_contract = w3.eth.contract(zkusd, abi = usdc_abi)\n",
        "\n",
        "frax = w3.to_checksum_address('0xb4C1544cb4163f4C2ECa1aE9Ce999F63892d912A')\n",
        "fraxpool = w3.to_checksum_address('0x7D99EefE031139F2f4e61fd46163656aE7b37131')\n",
        "frax_contract = w3.eth.contract(frax, abi = usdc_abi)\n",
        "\n",
        "pepe = w3.to_checksum_address('0xFD282F16a64c6D304aC05d1A58Da15bed0467c71')\n",
        "pepepool = w3.to_checksum_address('0x494d4EcFF27765f3485877DbAECA2AFd67D3318f')\n",
        "pepe_contract = w3.eth.contract(pepe, abi = usdc_abi)\n",
        "\n",
        "shib = w3.to_checksum_address('0x5B09802d62d213c4503B4b1Ef5F727ef62c9F4eF')\n",
        "shibpool = w3.to_checksum_address('0xaD64143AF86522023b4E8c03aD5Ae0aF7e055c66')\n",
        "shib_contract = w3.eth.contract(shib, abi = usdc_abi)\n",
        "\n",
        "meow = w3.to_checksum_address('0x79db8c67d0c33203da4Efb58F7D325E1e0d4d692')\n",
        "meowpool = w3.to_checksum_address('0xcd47DC9A16f4D9fAaD5f382873a7A9259E482b1A')\n",
        "meow_contract = w3.eth.contract(meow, abi = usdc_abi)\n",
        "\n",
        "pvp = w3.to_checksum_address('0xBcF7DA740a4d3e5B6B92f32167D1Ee48A422f955')\n",
        "pvppool = w3.to_checksum_address('0xD28177a7cBfC8446EFaD61C23B4AC963430FaE11')\n",
        "pvp_contract = w3.eth.contract(pvp, abi = usdc_abi)\n",
        "\n",
        "zf = w3.to_checksum_address('0x31C2c031fDc9d33e974f327Ab0d9883Eae06cA4A')\n",
        "zfpool = w3.to_checksum_address('0x385339083fd02efc82eEAEe790B46CE09Fb61FA9')\n",
        "zf_contract = w3.eth.contract(zf, abi = usdc_abi)\n",
        "\n",
        "piko = w3.to_checksum_address('0xf8C6dA1bbdc31Ea5F968AcE76E931685cA7F9962')\n",
        "pikopool = w3.to_checksum_address('0x85a60656b85eBbaC1b7567476f2a6fA0f229E52E')\n",
        "piko_contract = w3.eth.contract(piko, abi = usdc_abi)\n",
        "#############\n",
        "era = w3.to_checksum_address('0xeCD9f240ED3895c77dB676004328Dd1d246f33C9')\n",
        "erapool = w3.to_checksum_address('0xd3D91634Cf4C04aD1B76cE2c06F7385A897F54D3')\n",
        "era_contract = w3.eth.contract(era, abi = usdc_abi)\n",
        "\n",
        "vc = w3.to_checksum_address('0x85D84c774CF8e9fF85342684b0E795Df72A24908')\n",
        "vcpool = w3.to_checksum_address('0x1a3651dDf584CC82d3cf1d4D6D0972D8E0327215')\n",
        "vc_contract = w3.eth.contract(vc, abi = usdc_abi)\n",
        "\n",
        "space = w3.to_checksum_address('0x47260090cE5e83454d5f05A0AbbB2C953835f777')\n",
        "spacepool = w3.to_checksum_address('0x8a3c3098Ec94c58724E2479774Fd6Fc9Fc931eB9')\n",
        "space_contract = w3.eth.contract(space, abi = usdc_abi)\n",
        "\n",
        "ot = w3.to_checksum_address('0xD0eA21ba66B67bE636De1EC4bd9696EB8C61e9AA')\n",
        "otpool = w3.to_checksum_address('0x68aa22458D09bA63d99DeCafEB0bf8Ae83A2335A')\n",
        "ot_contract = w3.eth.contract(ot, abi = usdc_abi)\n",
        "\n",
        "beany = w3.to_checksum_address('0xc65364c35D8E2aabA17D00E468c29576f3eC105c')\n",
        "beanypool = w3.to_checksum_address('0x41beFA4dD84D8B42e614a7CdE3f33E8BB14D1003')\n",
        "beany_contract = w3.eth.contract(beany, abi = usdc_abi)\n",
        "\n",
        "titi = w3.to_checksum_address('0x4EBfb78C4780C304dff7de518db630b67e3F044b')\n",
        "titipool = w3.to_checksum_address('0x228D400F196760432BD8bcE74Fa1e6580aF4BF03')\n",
        "titi_contract = w3.eth.contract(titi, abi = usdc_abi)\n",
        "\n",
        "snrk = w3.to_checksum_address('0x533b5F887383196C6bc642f83338a69596465307')\n",
        "snrkpool = w3.to_checksum_address('0x5A95cA579830c91e8A98afd7607Ccd3e8b8cB9Cc')\n",
        "snrk_contract = w3.eth.contract(snrk, abi = usdc_abi)\n",
        "\n",
        "mute = w3.to_checksum_address('0x0e97C7a0F8B2C9885C8ac9fC6136e829CbC21d42')\n",
        "mutepool = w3.to_checksum_address('0xd3D91634Cf4C04aD1B76cE2c06F7385A897F54D3')\n",
        "mute_contract = w3.eth.contract(mute, abi = usdc_abi)\n",
        "\n",
        "pepera = w3.to_checksum_address('0x60143F39b54a731aC790708c8719211878e638C3')\n",
        "peperapool = w3.to_checksum_address('0xe6862BFB4157fCE480b7013fC9fa3C86cf26C0C6')\n",
        "pepera_contract = w3.eth.contract(pepera, abi = usdc_abi)\n",
        "\n",
        "zkid = w3.to_checksum_address('0x2141d7fe06A1d69c016fC638bA75b6Ef92Fa1435')\n",
        "zkidpool = w3.to_checksum_address('0xFdB73A27DC86865D0a9725D37eE42A57a28c567e')\n",
        "zkid_contract = w3.eth.contract(zkid, abi = usdc_abi)\n",
        "################\n",
        "wefi = w3.to_checksum_address('0x81E7186947fb59AAAAEb476a47daAc60680cbbaF')\n",
        "wefipool = w3.to_checksum_address('0x197F27d37E6c86132960AB0f0f1EDfa4cd10126e')\n",
        "wefi_contract = w3.eth.contract(wefi, abi = usdc_abi)\n",
        "\n",
        "lusd = w3.to_checksum_address('0x503234F203fC7Eb888EEC8513210612a43Cf6115')\n",
        "lusdpool = w3.to_checksum_address('0x4E7d2e3f40998DaeB59a316148BFbF8efd1F7F3c')\n",
        "lusd_contract = w3.eth.contract(lusd, abi = usdc_abi)\n",
        "\n",
        "usdplus = w3.to_checksum_address('0x8E86e46278518EFc1C5CEd245cBA2C7e3ef11557')\n",
        "usdpluspool = w3.to_checksum_address('0x1A5B3C3108Ea6F102FABDB39C746cc0f9EC642cF')\n",
        "usdplus_contract = w3.eth.contract(usdplus, abi = usdc_abi)\n",
        "\n",
        "zkdoge = w3.to_checksum_address('0xbFB4b5616044Eded03e5b1AD75141f0D9Cb1499b')\n",
        "zkdogepool = w3.to_checksum_address('0x99395aD2788aD3a16ac0dB1cDAC3bAE1159EE887')\n",
        "zkdoge_contract = w3.eth.contract(zkdoge, abi = usdc_abi)\n",
        "\n",
        "tiusd = w3.to_checksum_address('0xC059767cB62F003E863f9E7bD1fc813BEfF9693C')\n",
        "tiusdpool = w3.to_checksum_address('0x80115c708E12eDd42E504c1cD52Aea96C547c05c')\n",
        "tiusd_contract = w3.eth.contract(tiusd, abi = usdc_abi)"
      ]
    },
    {
      "cell_type": "code",
      "execution_count": null,
      "metadata": {
        "colab": {
          "base_uri": "https://localhost:8080/"
        },
        "id": "0GM2aW0TC7O6",
        "outputId": "60d16c02-5912-43ec-cf60-8daf59973a17"
      },
      "outputs": [
        {
          "output_type": "stream",
          "name": "stdout",
          "text": [
            "x= 33\n",
            "N- 1 0x58333B0FB66A34bd785F70FA24ead787AB17Bcce 0.009103327091150375\n",
            "https://explorer.zksync.io/tx/0x3aaab3e0a5002747639e9b345acdd839e5a4ab4d20cbb849d0c88b998440c0f2\n"
          ]
        },
        {
          "output_type": "stream",
          "name": "stderr",
          "text": [
            "sleep : 26/26\n"
          ]
        },
        {
          "output_type": "stream",
          "name": "stdout",
          "text": [
            "Approve\n",
            "https://explorer.zksync.io/tx/0x995c3299d26b1ca868eb1b21e0d957f061fe506b01dd67c758de00c529812f69\n",
            "https://explorer.zksync.io/tx/0x786c5bfcbd8c6e1d61f4841b2e120a6d4e2851ac45b2bb01050831d079cf7aeb\n",
            "https://explorer.zksync.io/tx/0xc93a063ae344c85c10ce85693140ce2a9f2ae5a03fcd693bdfc97434f70dd576\n"
          ]
        },
        {
          "output_type": "stream",
          "name": "stderr",
          "text": [
            "sleep : 146/146\n"
          ]
        },
        {
          "output_type": "stream",
          "name": "stdout",
          "text": [
            "5.3686E-14\n",
            "https://explorer.zksync.io/tx/0x0a49401f565241f82ffc51a8cb7cc032924d25ba770cbe59c68c23720d887a9a\n",
            "##################################################################################\n",
            "x= 29\n",
            "N- 2 0xdF8fDe49361103cCdf8c66Ce0739918c95B4cB41 0.009709926504511972\n",
            "https://explorer.zksync.io/tx/0x7b7c8789d3d562893da5794448ca9f13c66b857f8657e4f2c827d4ee32fb2d35\n"
          ]
        },
        {
          "output_type": "stream",
          "name": "stderr",
          "text": [
            "sleep : 42/42\n"
          ]
        },
        {
          "output_type": "stream",
          "name": "stdout",
          "text": [
            "Approve\n",
            "https://explorer.zksync.io/tx/0x9cf50b85f47755958fcf96584a32e0743bfdb932a876d7c21c1dd1d710a56331\n",
            "https://explorer.zksync.io/tx/0x36a7c5789f33434f635a56e562c22577d8fc5743f43d48caa03570cdf1e03007\n",
            "https://explorer.zksync.io/tx/0xc7a73cddd58f0a0e5f57cae8e9542ae17c98a6deb1abae007089150bd8dd9c2f\n"
          ]
        },
        {
          "output_type": "stream",
          "name": "stderr",
          "text": [
            "sleep : 106/106\n"
          ]
        },
        {
          "output_type": "stream",
          "name": "stdout",
          "text": [
            "2518938707.979282852563974988\n",
            "https://explorer.zksync.io/tx/0x9ad26339c5faac9a3d88803bfec1cfc65153111a5ee0daab8c76f7bb38f9534e\n",
            "##################################################################################\n",
            "x= 9\n",
            "N- 3 0xE5089BD99e0d30B11A240E366bAEB478D25a0269 0.008389291391425061\n",
            "https://explorer.zksync.io/tx/0xbbe1a2e44e77b70e67f3f67bbb19b1b07168a6684bcdd6f6bfb51968f39a10cf\n"
          ]
        },
        {
          "output_type": "stream",
          "name": "stderr",
          "text": [
            "sleep : 21/21\n"
          ]
        },
        {
          "output_type": "stream",
          "name": "stdout",
          "text": [
            "Approve\n",
            "https://explorer.zksync.io/tx/0x49cc0b394ea9c92362dbf25d4d1c7dd8c80c6a0804fea8e0054aadfaf3e84a11\n",
            "https://explorer.zksync.io/tx/0x6b1713c80e790ea9d99a26dff34595ea50590da656118235ce45b87822c98bc5\n",
            "https://explorer.zksync.io/tx/0x08339b6e8672ef7836b62cd1ac5601d6d80bcfa645f963ddc2e914b914b07258\n"
          ]
        },
        {
          "output_type": "stream",
          "name": "stderr",
          "text": [
            "sleep : 176/176\n"
          ]
        },
        {
          "output_type": "stream",
          "name": "stdout",
          "text": [
            "7.521938708696711952\n",
            "https://explorer.zksync.io/tx/0x143f4c48716282d0e0085766c5c9667ba59c110692db24e7f6476365eb59e98a\n",
            "##################################################################################\n",
            "x= 16\n",
            "N- 4 0xa23d6B0e391168E6e8c879CD2D24eaA415b8ce50 0.009044559256793795\n",
            "https://explorer.zksync.io/tx/0x67886bfba0364bf151c86053bcb82fc9bb08c2d19eb0855f7c91e613142ff54f\n"
          ]
        },
        {
          "output_type": "stream",
          "name": "stderr",
          "text": [
            "sleep : 35/35\n"
          ]
        },
        {
          "output_type": "stream",
          "name": "stdout",
          "text": [
            "Approve\n",
            "https://explorer.zksync.io/tx/0xed72d3f7dbff1a5955b03d868623c7eded6fd4047db4f3f66c4be887710171dd\n",
            "https://explorer.zksync.io/tx/0x62308607995f2907033748945a390eb5d9a2567ed27d5da4dbc1bfe18f534d82\n",
            "https://explorer.zksync.io/tx/0x2292ed16dece7fcaf6b317d0809e947d5c2066d078769e4cdebcfcfd2a1645cd\n"
          ]
        },
        {
          "output_type": "stream",
          "name": "stderr",
          "text": [
            "sleep : 106/106\n"
          ]
        },
        {
          "output_type": "stream",
          "name": "stdout",
          "text": [
            "2776.657671266564832106\n",
            "https://explorer.zksync.io/tx/0x456c6215469c83720d2db5e1268996c7db5c9cdad5aa5d5bcf7b537bc3b90567\n",
            "##################################################################################\n",
            "x= 15\n",
            "N- 5 0x3fbc890aE8593Cc99115b95FFE5a734Fb4291012 0.008654727225858432\n",
            "https://explorer.zksync.io/tx/0xb27fe0cfc7aa3cec1653622676f6a2003385e8d0c2e9b4b0fc9d3804852172a7\n"
          ]
        },
        {
          "output_type": "stream",
          "name": "stderr",
          "text": [
            "sleep : 53/53\n"
          ]
        },
        {
          "output_type": "stream",
          "name": "stdout",
          "text": [
            "Approve\n",
            "https://explorer.zksync.io/tx/0xdd9b73d7fb307298f125ea6e568af3fa82079c180d9e84e60fa2ad22c1421cfd\n",
            "https://explorer.zksync.io/tx/0x4c9ed3eef7687731350b6928c45246ef9458616ea0f23e6eff6679f6bbd0d5d5\n",
            "https://explorer.zksync.io/tx/0x1bb163ed4feaa8ef2885c8bfd3183f5c69bda734b4fd6d1f65c087d316780745\n"
          ]
        },
        {
          "output_type": "stream",
          "name": "stderr",
          "text": [
            "sleep : 72/72\n"
          ]
        },
        {
          "output_type": "stream",
          "name": "stdout",
          "text": [
            "39899.094372351812078223\n",
            "https://explorer.zksync.io/tx/0xc7f820b50f8e346bd9a5fbd8bf0cfc739bfab82caafcb0885fa777df278a4bcf\n",
            "##################################################################################\n",
            "x= 21\n",
            "N- 6 0x798ab091b7EC146f9e96D51E1FDDdEBe106108cA 0.008700146585594679\n",
            "https://explorer.zksync.io/tx/0x54a5979ada81f198e4ef4081ef5df9360c768a27152d76f1a64d437bdc634b64\n"
          ]
        },
        {
          "output_type": "stream",
          "name": "stderr",
          "text": [
            "sleep : 41/41\n"
          ]
        },
        {
          "output_type": "stream",
          "name": "stdout",
          "text": [
            "Approve\n",
            "https://explorer.zksync.io/tx/0x001c8893ed93ee0e59dde9c36f34f2636f5e54ed6a6e00fbef2ca08e35dd81f8\n",
            "https://explorer.zksync.io/tx/0x2f23d80d4046a9da64530074cabad455c13e874e5f906598d7e8edcc63a1257b\n",
            "https://explorer.zksync.io/tx/0x25e97df1bc52bce21397c338d9c96ad3f5a8fc04f6173909136419665997eae2\n"
          ]
        },
        {
          "output_type": "stream",
          "name": "stderr",
          "text": [
            "sleep : 131/131\n"
          ]
        },
        {
          "output_type": "stream",
          "name": "stdout",
          "text": [
            "0\n",
            "!!!!!!!!\n",
            "x= 31\n",
            "N- 7 0xC0457B506151Cd449820b8E0Def3d9F1363cF3DC 0.008985276211621327\n",
            "https://explorer.zksync.io/tx/0x524cce5b6b1f6ba74abb83e74c3f576dc4d5705df82bc92f176635110280aeca\n"
          ]
        },
        {
          "output_type": "stream",
          "name": "stderr",
          "text": [
            "sleep : 48/48\n"
          ]
        },
        {
          "output_type": "stream",
          "name": "stdout",
          "text": [
            "Approve\n",
            "https://explorer.zksync.io/tx/0x27229e778e0d7edd5ecd52461e6951ea6ce6772b7b4a5663596b0e97ee216386\n",
            "https://explorer.zksync.io/tx/0xbe947e6f46f92e7f4af862741a35c0b37c38a303ad6198ea9873c79d8d4a7c73\n",
            "https://explorer.zksync.io/tx/0x0246c3a35a7c5278330c675e8daae1616a4f95e7865d86ae8bc91a8c6e2bb269\n"
          ]
        },
        {
          "output_type": "stream",
          "name": "stderr",
          "text": [
            "sleep : 175/175\n"
          ]
        },
        {
          "output_type": "stream",
          "name": "stdout",
          "text": [
            "0.260688444312776225\n",
            "https://explorer.zksync.io/tx/0x0fec748915b0fe6d06a4a732c16c46dba8ea4cbfcf4abea5513f2dd1d1b23b45\n",
            "##################################################################################\n",
            "x= 14\n",
            "N- 8 0xa62e988397Fadf1193d85b77c5C5B0e3928EC8E8 0.009092708002596648\n",
            "https://explorer.zksync.io/tx/0x19e565b2b6a04210d32a7a5f8d079377c944734e4e54ee88d2ed48e3a110a41b\n"
          ]
        },
        {
          "output_type": "stream",
          "name": "stderr",
          "text": [
            "sleep : 36/36\n"
          ]
        },
        {
          "output_type": "stream",
          "name": "stdout",
          "text": [
            "Approve\n",
            "https://explorer.zksync.io/tx/0xf64cf11d2c5df8d459188a640bc4624f397b313cce03762ec4154629cc19507e\n",
            "https://explorer.zksync.io/tx/0xbe8f37a66a96ac4bff329efd34152ea1665470463894729139d361de2c9b4c37\n",
            "https://explorer.zksync.io/tx/0x99a43903c62a6bb9f5673311461f532696597ca45aa53ef04c66c2bfa97509f0\n"
          ]
        },
        {
          "output_type": "stream",
          "name": "stderr",
          "text": [
            "sleep : 212/212\n"
          ]
        },
        {
          "output_type": "stream",
          "name": "stdout",
          "text": [
            "0.058617351553653802\n",
            "https://explorer.zksync.io/tx/0xa69690a75d47c1b93f98adb9502174d1bdef0cde0b42728845bfce3b6ccbddfb\n",
            "##################################################################################\n",
            "x= 23\n",
            "N- 9 0xf4930207a9C64e7DE7610586748b291d5DfcC26a 0.008474484879117323\n",
            "https://explorer.zksync.io/tx/0x2a406d10bb4fe5da8d7423c855c445cacde2f61dfc3f52f0261d43f903b14a47\n"
          ]
        },
        {
          "output_type": "stream",
          "name": "stderr",
          "text": [
            "sleep : 24/24\n"
          ]
        },
        {
          "output_type": "stream",
          "name": "stdout",
          "text": [
            "Approve\n",
            "https://explorer.zksync.io/tx/0x3659badda0a259c28fec524bbf87f29268ba8d6bb140cc12af5ca0367b479311\n",
            "https://explorer.zksync.io/tx/0xa3d76b4a650f5cb762682fe00d166bd91492d0c051ec27160556d685e4ff5cb3\n",
            "https://explorer.zksync.io/tx/0x57d4c41bff62a11cb1cf216bb78439a80d0adfe904e2fac4d079120be836f9bf\n"
          ]
        },
        {
          "output_type": "stream",
          "name": "stderr",
          "text": [
            "sleep : 182/182\n"
          ]
        },
        {
          "output_type": "stream",
          "name": "stdout",
          "text": [
            "0.925875390799196935\n",
            "https://explorer.zksync.io/tx/0xc578565b27bdf4ba70965d000ea288856ca51ff7fa74c440fb3e26f686571a9b\n",
            "##################################################################################\n",
            "x= 11\n",
            "N- 10 0x061EA8313efF442c506fb3264D87d7154d250052 0.009080303436346357\n",
            "https://explorer.zksync.io/tx/0xd29bb302949e20d1cb4e0db55673f18078ea87d15099bf84b8d781fbb4cb5131\n"
          ]
        },
        {
          "output_type": "stream",
          "name": "stderr",
          "text": [
            "sleep : 48/48\n"
          ]
        },
        {
          "output_type": "stream",
          "name": "stdout",
          "text": [
            "Approve\n",
            "https://explorer.zksync.io/tx/0x30fc54eca11a10c884f9beef6a47022ef5da52b8f331fe35356467828dba44cd\n",
            "https://explorer.zksync.io/tx/0xcbc12685b533c65e770483d1ea05de9384be3bf354bf0ef217720977cfca34bf\n",
            "https://explorer.zksync.io/tx/0x543f143c4fdd7f391f40ba3b2f54320ea478018002834e1b18f1bb3b79d27c72\n"
          ]
        },
        {
          "output_type": "stream",
          "name": "stderr",
          "text": [
            "sleep : 230/230\n"
          ]
        },
        {
          "output_type": "stream",
          "name": "stdout",
          "text": [
            "5.784726285807745779\n",
            "https://explorer.zksync.io/tx/0xa58268b4a174b5a1dd04d9169f8ce5ca973d593d75433931839ea6ab0eec7391\n",
            "##################################################################################\n",
            "x= 17\n",
            "N- 11 0x3A886B8846C2a0c216cd57D2BDf05152877a35Fb 0.008463812378081068\n",
            "https://explorer.zksync.io/tx/0x1f76a143e8ab7a80101be238fe02674f054ef48677ce0d4cda5660ffbc564883\n"
          ]
        },
        {
          "output_type": "stream",
          "name": "stderr",
          "text": [
            "sleep : 19/19\n"
          ]
        },
        {
          "output_type": "stream",
          "name": "stdout",
          "text": [
            "Approve\n",
            "https://explorer.zksync.io/tx/0x40a8a348fe60501935e919d80b02aa25ebde05233c58e892653553c7495d4d5f\n",
            "https://explorer.zksync.io/tx/0xf3b72e8eb58c16781a90ca1850208c64021c6b721a21c498831651fe70baa1d4\n",
            "https://explorer.zksync.io/tx/0x20c962b80de8e9e2805846c46d81e9ba146a22eb268f2db6252cb1a44a093de2\n"
          ]
        },
        {
          "output_type": "stream",
          "name": "stderr",
          "text": [
            "sleep : 99/99\n"
          ]
        },
        {
          "output_type": "stream",
          "name": "stdout",
          "text": [
            "38858.957280409501927027\n",
            "https://explorer.zksync.io/tx/0x4ef6f1f9d1944781227db47c41087bbc963008a870089357df3f0d0e3e2bb47b\n",
            "##################################################################################\n",
            "x= 2\n",
            "N- 12 0xe2cE7c6f27242Ef38AC228446e3A7e9044Aa9ca2 0.009360384665398746\n",
            "https://explorer.zksync.io/tx/0x3d9687e36f8c9501d49c189db7ebc11c686ef6e53ea95247ea97ba9cb2fc1b13\n"
          ]
        },
        {
          "output_type": "stream",
          "name": "stderr",
          "text": [
            "sleep : 30/30\n"
          ]
        },
        {
          "output_type": "stream",
          "name": "stdout",
          "text": [
            "Approve\n",
            "https://explorer.zksync.io/tx/0x2c7d1282c27fb9c2a6db399531559a99b7c8ad5a81968e0dda3cbd472b3fe190\n",
            "https://explorer.zksync.io/tx/0xead8db70af7347a18440854c3957c104866f5781fd24eb9eb0f07c7dfee325f9\n",
            "https://explorer.zksync.io/tx/0xf3dacf213945f170d4f5fdf57bbaf2791e61a89e1aeb327489d6e1f70a114def\n"
          ]
        },
        {
          "output_type": "stream",
          "name": "stderr",
          "text": [
            "sleep : 200/200\n"
          ]
        },
        {
          "output_type": "stream",
          "name": "stdout",
          "text": [
            "0.030720857555725687\n",
            "https://explorer.zksync.io/tx/0x0969ecae3004eceaa2b9ca979c83ee18f7c9d09bd5e58355eaa2ac8d3fe7fb6d\n",
            "##################################################################################\n",
            "x= 25\n",
            "N- 13 0xFB97363Ed2e195Ef8acAaB7897F4F1be4dD95523 0.008490971383739895\n",
            "https://explorer.zksync.io/tx/0xddddb83d9bab090290d418e1edcc99027acd4a511836d8d9c321e8d3593e51d6\n"
          ]
        },
        {
          "output_type": "stream",
          "name": "stderr",
          "text": [
            "sleep : 39/39\n"
          ]
        },
        {
          "output_type": "stream",
          "name": "stdout",
          "text": [
            "Approve\n",
            "https://explorer.zksync.io/tx/0x9e604de55c34ef513aaaa40d7bd5d79e98c20796e4ebe37691b0637613fbb629\n",
            "https://explorer.zksync.io/tx/0x931400732c6992a9af05e2922a6c0d4f1789caf6e86827f7bbd38b91d1c328cf\n",
            "https://explorer.zksync.io/tx/0xbf6df54512dc48ee78eaca3f68f00cfb238286dc7a6da4f5047c33d2637e8a53\n"
          ]
        },
        {
          "output_type": "stream",
          "name": "stderr",
          "text": [
            "sleep : 215/215\n"
          ]
        },
        {
          "output_type": "stream",
          "name": "stdout",
          "text": [
            "44474105.828456491750656382\n",
            "https://explorer.zksync.io/tx/0xc6258275519c0eae9a3bf1a6530fc69a8a2f29d324f5c539cdea81c05d9ad56c\n",
            "##################################################################################\n",
            "x= 31\n",
            "N- 14 0xAa5DbCFc6621Baa9D2eAD8DC32fe14CCeaA0ee69 0.008768249994217421\n",
            "https://explorer.zksync.io/tx/0xbf1a5579976a74f17d9636390f06027669c2796033b422e978d6c2d60067d734\n"
          ]
        },
        {
          "output_type": "stream",
          "name": "stderr",
          "text": [
            "sleep : 37/37\n"
          ]
        },
        {
          "output_type": "stream",
          "name": "stdout",
          "text": [
            "Approve\n",
            "https://explorer.zksync.io/tx/0xaa9e86c065becb74e056df1e2e0ff719c983adce44ac50afd381d87e21ac5c11\n",
            "https://explorer.zksync.io/tx/0x31368877aae8dcbae78b68f2556e4b08214a89e2fea99e27eb199cf92785146d\n",
            "https://explorer.zksync.io/tx/0x2c8c41debd8faca1990dc4e44bde7bf2f5daca324a93a69e7844874a27acad60\n"
          ]
        },
        {
          "output_type": "stream",
          "name": "stderr",
          "text": [
            "sleep : 163/163\n"
          ]
        },
        {
          "output_type": "stream",
          "name": "stdout",
          "text": [
            "0.643997274400313509\n",
            "https://explorer.zksync.io/tx/0x5ff3337c6a568279edc4b0a36214ad3a8be620b66af3ee8abbaab1a0a1b8a56e\n",
            "##################################################################################\n",
            "x= 5\n",
            "N- 15 0x15C6Ecd673CA568828C1b4D189A15d1021eb1CE1 0.008867333049986058\n",
            "https://explorer.zksync.io/tx/0x8c0cf3201ee0205bf5c69e875863e0d6b4bb5416cbb75b65d5034df93db89459\n"
          ]
        },
        {
          "output_type": "stream",
          "name": "stderr",
          "text": [
            "sleep : 36/36\n"
          ]
        },
        {
          "output_type": "stream",
          "name": "stdout",
          "text": [
            "Approve\n",
            "https://explorer.zksync.io/tx/0x9baacb5ad0aeba84527db0587809af0db55b0d3bcfef9f9118f4780923bb59d6\n",
            "https://explorer.zksync.io/tx/0x56639e0a2bf14336471f76d37371b81b100a5d9d85cd060bcab6543d8f9516f0\n",
            "https://explorer.zksync.io/tx/0xf5bdb71e0062edfaf48f6939c1d58b38cc0eb65548e1f3b70b350a8dfa439c0b\n"
          ]
        },
        {
          "output_type": "stream",
          "name": "stderr",
          "text": [
            "sleep : 124/124\n"
          ]
        },
        {
          "output_type": "stream",
          "name": "stdout",
          "text": [
            "0.231373403899258541\n",
            "https://explorer.zksync.io/tx/0xe69051bb9c3db4f066075b9170840e95a0493c39fc0a2f4b585091eba92e53a8\n",
            "##################################################################################\n",
            "x= 2\n",
            "N- 16 0x7Fe9410f2D8d1Ab6AaaD067eD57AE7E76bBC6aF4 0.008448196733479714\n",
            "https://explorer.zksync.io/tx/0xa59f0e57f1eb90a8ad61a9fac1f438ad2167c352ce7a5370c3c1e3c235c9e2fd\n"
          ]
        },
        {
          "output_type": "stream",
          "name": "stderr",
          "text": [
            "sleep : 32/32\n"
          ]
        },
        {
          "output_type": "stream",
          "name": "stdout",
          "text": [
            "Approve\n",
            "https://explorer.zksync.io/tx/0xeabde5ba6ea066f28abe9ea763346a4b025ddce198fdd5669ad950b6a537673e\n",
            "https://explorer.zksync.io/tx/0x466f7e55e0378e8145962158806e4e10c6d92d11c9bb68eb3b0fc3dacac5d224\n",
            "https://explorer.zksync.io/tx/0xa50e5b4a113202b6e63961c886185a0ecf04bebafb33b87576a4f5be8cfdf393\n"
          ]
        },
        {
          "output_type": "stream",
          "name": "stderr",
          "text": [
            "sleep : 266/266\n"
          ]
        },
        {
          "output_type": "stream",
          "name": "stdout",
          "text": [
            "0.010654875078363742\n",
            "https://explorer.zksync.io/tx/0x98ec60ec1248c8373008fc8eea694f8e2d877d6b33b8a4895ff8b273c0bf674d\n",
            "##################################################################################\n",
            "x= 18\n",
            "N- 17 0x3E06A09cCE58Ae12558B616dC5085b874efbDB66 0.009095503982652989\n",
            "https://explorer.zksync.io/tx/0xdaf5892ce2351f1b748c94ecdb81d663e20cc65b3c6612e7a94b0523906a7070\n"
          ]
        },
        {
          "output_type": "stream",
          "name": "stderr",
          "text": [
            "sleep : 44/44\n"
          ]
        },
        {
          "output_type": "stream",
          "name": "stdout",
          "text": [
            "Approve\n",
            "https://explorer.zksync.io/tx/0x6f8492672fd33a8d29da91e76bc028dcf9926c2e8961024cd800264026e6b80d\n",
            "https://explorer.zksync.io/tx/0xb46998085305adbf921316a975bb9182dc296c735ae9bb087bfa50258b62155a\n",
            "https://explorer.zksync.io/tx/0x9d24bf1a319295cf7d9e100878348f3911c2bdb472b3f5e6ec2ab346a3eb7b4b\n"
          ]
        },
        {
          "output_type": "stream",
          "name": "stderr",
          "text": [
            "sleep : 272/272\n"
          ]
        },
        {
          "output_type": "stream",
          "name": "stdout",
          "text": [
            "1.7283904E-11\n",
            "https://explorer.zksync.io/tx/0x8829fc42af7de2d3683faa7722994ccaf2ce0e4cfb2dfaf1cf19b0e146d79105\n",
            "##################################################################################\n",
            "x= 7\n",
            "N- 18 0x79E1b8C5B2982e417F7652d1E61ef343F99f2958 0.008727343844441361\n",
            "https://explorer.zksync.io/tx/0x0eed820327ce030355f7f69cf74cfdef84cc83b1fa3b3f1642cd9e57e1832ea4\n"
          ]
        },
        {
          "output_type": "stream",
          "name": "stderr",
          "text": [
            "sleep : 45/45\n"
          ]
        },
        {
          "output_type": "stream",
          "name": "stdout",
          "text": [
            "Approve\n",
            "https://explorer.zksync.io/tx/0x976b93ff7d6c0c40bf98d225bc09454927fc4c881c3c662dcc288e9deee97a04\n",
            "https://explorer.zksync.io/tx/0xa116fcbf4f10365078e8401add83469189233d1b05322a7a2063d4b8fd17ab36\n",
            "https://explorer.zksync.io/tx/0x8f62c09e5e05f693d44582084fd6c5722354b94520a95b3ea292ceba01300d1d\n"
          ]
        },
        {
          "output_type": "stream",
          "name": "stderr",
          "text": [
            "sleep : 196/196\n"
          ]
        },
        {
          "output_type": "stream",
          "name": "stdout",
          "text": [
            "0.883809524262311126\n",
            "https://explorer.zksync.io/tx/0x10fdd98cb77c8d0546cf6a7ed96a33dffbb76c0f2a62a225d8c496af56900b14\n",
            "##################################################################################\n",
            "x= 34\n",
            "N- 19 0x1d8ef8C0cc6f5144DD97Ea6Cd823117197C10084 0.009439029261047106\n",
            "https://explorer.zksync.io/tx/0x75f94ea10f21a36a47b5e720f45d648744dd7782dea5a3417f826b785f6cc3d6\n"
          ]
        },
        {
          "output_type": "stream",
          "name": "stderr",
          "text": [
            "sleep : 36/36\n"
          ]
        },
        {
          "output_type": "stream",
          "name": "stdout",
          "text": [
            "Approve\n",
            "https://explorer.zksync.io/tx/0x2bc53ac8fab91572afe50f3442a37276c0ccd5eabff1691ef488785f5e8f0654\n",
            "https://explorer.zksync.io/tx/0x8a284f74e64313e9e39958c357fb4394d3ba5a0d31411ce7197aebcdc0eb60ec\n",
            "https://explorer.zksync.io/tx/0xa71c6f6683b8c0498d6d56f75af945705a25959ca0fe9f5ebc9b6f7e006815fb\n"
          ]
        },
        {
          "output_type": "stream",
          "name": "stderr",
          "text": [
            "sleep : 216/216\n"
          ]
        },
        {
          "output_type": "stream",
          "name": "stdout",
          "text": [
            "936.326143667373036252\n",
            "https://explorer.zksync.io/tx/0x7794288f86797eb5560c00acad5e7c4902556b7b1b1e2b14b0b4749d4c151121\n",
            "##################################################################################\n",
            "x= 22\n",
            "N- 20 0x62aF646Be42e84eD80c90Fc93E92D010029229f7 0.00830305906969124\n",
            "https://explorer.zksync.io/tx/0x372315b4b9e0e0a99947d2629badbebee63e9bc709c116879a1392b82e4394e9\n"
          ]
        },
        {
          "output_type": "stream",
          "name": "stderr",
          "text": [
            "sleep : 31/31\n"
          ]
        },
        {
          "output_type": "stream",
          "name": "stdout",
          "text": [
            "Approve\n",
            "https://explorer.zksync.io/tx/0x5361bce4280b1fb5cac896c9eed9c089b479c047556b1e6e02a8c680ccf46c83\n",
            "https://explorer.zksync.io/tx/0x064f9c3eaca52bd028d4cf6261ea6e91c523996e9086420797cf41a051821d3a\n",
            "https://explorer.zksync.io/tx/0xf596fdb2ca24f1d30e2453359f9002caa87b2e57143efa28578542939320ac07\n"
          ]
        },
        {
          "output_type": "stream",
          "name": "stderr",
          "text": [
            "sleep : 80/80\n"
          ]
        },
        {
          "output_type": "stream",
          "name": "stdout",
          "text": [
            "3.290973453707931223\n",
            "https://explorer.zksync.io/tx/0xbfcf4fbeee1eecb6ad5c56e26febd8fd70cf051cc4471ef39ab36cc98978b90a\n",
            "##################################################################################\n",
            "x= 28\n",
            "N- 21 0x43b270aE6803d3e5Ae43Ee28E72a7d2cF4645cD6 0.009363883890350178\n",
            "https://explorer.zksync.io/tx/0xc2942dcadc69f62689a7ff1c22c10976ce38d6dd8202ca3ec71fdd51e1cdb244\n"
          ]
        },
        {
          "output_type": "stream",
          "name": "stderr",
          "text": [
            "sleep : 19/19\n"
          ]
        },
        {
          "output_type": "stream",
          "name": "stdout",
          "text": [
            "Approve\n",
            "https://explorer.zksync.io/tx/0xc8d1d4a3236f1cc8074640a0b69b7ed8af1bb60e98096589eeac8802141275e7\n",
            "https://explorer.zksync.io/tx/0x602f521257a1bd1fe3c642b7e3eaa3d6c6bb854e8a7bc90d2d2c71aa119a14a7\n",
            "https://explorer.zksync.io/tx/0xaf39c53a55e3ebc394163839099e11a017b8ffd96d6e0353f072df6b7159e50c\n"
          ]
        },
        {
          "output_type": "stream",
          "name": "stderr",
          "text": [
            "sleep : 274/274\n"
          ]
        },
        {
          "output_type": "stream",
          "name": "stdout",
          "text": [
            "0\n",
            "!!!!!!!!\n",
            "x= 21\n",
            "N- 22 0xc064d2b785573E1c711Cb62F1479E0473aC5A3bC 0.009781082297015578\n",
            "https://explorer.zksync.io/tx/0xaff5a60f24ff95362609ad61b204d50218c7615adc48c0faebfd0fe5b3918174\n"
          ]
        },
        {
          "output_type": "stream",
          "name": "stderr",
          "text": [
            "sleep : 52/52\n"
          ]
        },
        {
          "output_type": "stream",
          "name": "stdout",
          "text": [
            "Approve\n",
            "https://explorer.zksync.io/tx/0x05c89192ac578b559b7256db606096e7878bafe92512bebb8ace40e914995b97\n",
            "https://explorer.zksync.io/tx/0x5a219f30c6e6e5ad0fa5e92b8311cffd0c76ae6d449141cc8c37b06944712b91\n",
            "https://explorer.zksync.io/tx/0xfd9d315a41c26469cf15e14c972326bfdbc3b77e355fff5a358362a8ab8a983a\n"
          ]
        },
        {
          "output_type": "stream",
          "name": "stderr",
          "text": [
            "sleep : 76/76\n"
          ]
        },
        {
          "output_type": "stream",
          "name": "stdout",
          "text": [
            "0\n",
            "!!!!!!!!\n",
            "x= 15\n",
            "N- 23 0xa2562ae0984b19C2d10212B49993e61b0Cba45C6 0.009281959407393815\n",
            "https://explorer.zksync.io/tx/0xe92af72e1e34db5897d9c6fcf8e958f25c6968b3cf03db92e28e8d3aa6640a7a\n"
          ]
        },
        {
          "output_type": "stream",
          "name": "stderr",
          "text": [
            "sleep : 28/28\n"
          ]
        },
        {
          "output_type": "stream",
          "name": "stdout",
          "text": [
            "Approve\n",
            "https://explorer.zksync.io/tx/0xc5db1d598599bec10fc11c34dbda45004c86b6cf99d01544223c1bbbdc17f699\n",
            "https://explorer.zksync.io/tx/0x6659a98ae7e39a7ac86df8a4e0fc2145793b70acd2272a05fceafe3a4083d133\n",
            "https://explorer.zksync.io/tx/0x332d5162fed11155fa6a615d19a737afef096283d7478b26a592bbbc45f7b76a\n"
          ]
        },
        {
          "output_type": "stream",
          "name": "stderr",
          "text": [
            "sleep : 116/116\n"
          ]
        },
        {
          "output_type": "stream",
          "name": "stdout",
          "text": [
            "40108.863547424750811999\n",
            "https://explorer.zksync.io/tx/0x3dd628d9618493efc8810f159c442303424e3e0466d1af92a2f376e5fb33b040\n",
            "##################################################################################\n",
            "x= 9\n",
            "N- 24 0x7c71842c56820d5E9873eC2Ef1A4657f5F6518A5 0.009161851207813892\n",
            "https://explorer.zksync.io/tx/0xca3fe09f43d5d59d9f6daf92392e0b7c4d68a4f4a242751f25b58961030c9f1f\n"
          ]
        },
        {
          "output_type": "stream",
          "name": "stderr",
          "text": [
            "sleep : 40/40\n"
          ]
        },
        {
          "output_type": "stream",
          "name": "stdout",
          "text": [
            "Approve\n",
            "https://explorer.zksync.io/tx/0x19c02b77e1133272a2b25b2b8af990a5c5b30372756768a6500bebc32f437dc5\n",
            "https://explorer.zksync.io/tx/0xdb438740f61a8a6c755a96f99b79673720859af6b174d84f4fefba27aeb16d80\n",
            "https://explorer.zksync.io/tx/0x464336d9fe5dd7525c602063ef80767036f7ac59ddaaba3236b01ce17beab26d\n"
          ]
        },
        {
          "output_type": "stream",
          "name": "stderr",
          "text": [
            "sleep : 110/110\n"
          ]
        },
        {
          "output_type": "stream",
          "name": "stdout",
          "text": [
            "5.011238118008057325\n",
            "https://explorer.zksync.io/tx/0x9ed99c6c29a571337fe659d027e01093a7e9ee4a3b44d3558bbfa89a603a9db7\n",
            "##################################################################################\n",
            "x= 34\n",
            "N- 25 0x42aB34C8ff0E4cF87cDe41810c0Ab73dA3712Df6 0.009070538499991122\n",
            "https://explorer.zksync.io/tx/0xcb9c92f6ec278c0a51549223eb2f7fc58f44ecfa0e8b50ba8a63e43aaf1f1173\n"
          ]
        },
        {
          "output_type": "stream",
          "name": "stderr",
          "text": [
            "sleep : 53/53\n"
          ]
        },
        {
          "output_type": "stream",
          "name": "stdout",
          "text": [
            "Approve\n",
            "https://explorer.zksync.io/tx/0xe2276f0fc13eb0a25a81e68576bdcfe346c639aa4db1a184e9f19cd7848e826d\n",
            "https://explorer.zksync.io/tx/0x9dce8f26bad18a3d52ce14ecf23a645a4abc81041a1808ca4114c75283482d9a\n",
            "https://explorer.zksync.io/tx/0xb456150bdf7eb93eb845dbe58fdb57dc6d7241aabddb34bb5b72b7132ba1e378\n"
          ]
        },
        {
          "output_type": "stream",
          "name": "stderr",
          "text": [
            "sleep : 119/119\n"
          ]
        },
        {
          "output_type": "stream",
          "name": "stdout",
          "text": [
            "1315.196766982710871945\n",
            "https://explorer.zksync.io/tx/0x6dc4ad390ad818e8a56c7cb65f9da1302f3e85e0258a5a674497ea51844d7a95\n",
            "##################################################################################\n",
            "x= 10\n",
            "N- 26 0x4D2C3C2E746fB342346baC2Eaa3940CA9f82107a 0.008788946543860265\n",
            "https://explorer.zksync.io/tx/0x33f43859faab4da927952cdf443c6d07a1d2d64cf789c324a0b1d4e992fdcdf8\n"
          ]
        },
        {
          "output_type": "stream",
          "name": "stderr",
          "text": [
            "sleep : 49/49\n"
          ]
        },
        {
          "output_type": "stream",
          "name": "stdout",
          "text": [
            "Approve\n",
            "https://explorer.zksync.io/tx/0x48c624bfae83e088c1db68ed63d42bcfce8babd189a1a0b634a5106f4ec5edbd\n",
            "https://explorer.zksync.io/tx/0x801f33cbbc3992185594643e33e39061b7068328c619108d9a631ae49b51f334\n",
            "https://explorer.zksync.io/tx/0x889c323d5bbcf82404ef3adf940d7a6c428de8153b0bf31071db6382f883f784\n"
          ]
        },
        {
          "output_type": "stream",
          "name": "stderr",
          "text": [
            "sleep : 238/238\n"
          ]
        },
        {
          "output_type": "stream",
          "name": "stdout",
          "text": [
            "0.076931577021846327\n",
            "https://explorer.zksync.io/tx/0xb231186abc07f5d61baebb7c91204ab7e10b5234d8155bb1e96f353c773e0111\n",
            "##################################################################################\n",
            "x= 17\n",
            "N- 27 0x4247243Bd777e3ae6c8203Bbd52b198eAB5C0065 0.008162365805938098\n",
            "https://explorer.zksync.io/tx/0x173d21ef80047704d309eba1fbf1d8defc5974816ba11b7fc3c86afe55181a0c\n"
          ]
        },
        {
          "output_type": "stream",
          "name": "stderr",
          "text": [
            "sleep : 40/40\n"
          ]
        },
        {
          "output_type": "stream",
          "name": "stdout",
          "text": [
            "Approve\n",
            "https://explorer.zksync.io/tx/0x524e1f0a43628dc7f03bdc90e6b08e127bbf38e747430518c0cb8d6aa671bc1e\n",
            "https://explorer.zksync.io/tx/0x3042b7fabfe002f35c6b87c79126337c35ebe51aec8bfec77005ca25024165bc\n",
            "https://explorer.zksync.io/tx/0x1acaca1d4cc36d9e239827d64af12773b5c39da1d1d2cfe15f6553d5b9fc3715\n"
          ]
        },
        {
          "output_type": "stream",
          "name": "stderr",
          "text": [
            "sleep : 265/265\n"
          ]
        },
        {
          "output_type": "stream",
          "name": "stdout",
          "text": [
            "26125.803165641787936042\n",
            "https://explorer.zksync.io/tx/0xf40be977541df08a64713b5b1436b117f6f122f2e06f0988dc4fc32cf9c25799\n",
            "##################################################################################\n",
            "x= 17\n",
            "N- 28 0x1ED91f581EB08Dde9f702CbB8029a91213Deb879 0.008878674084075761\n",
            "https://explorer.zksync.io/tx/0x1ac052789a189d241532309542305d12e05a124e04c18b1bed1153fe1f5d8449\n"
          ]
        },
        {
          "output_type": "stream",
          "name": "stderr",
          "text": [
            "sleep : 45/45\n"
          ]
        },
        {
          "output_type": "stream",
          "name": "stdout",
          "text": [
            "Approve\n",
            "https://explorer.zksync.io/tx/0xcdcdcdaa03044d2d95b3d493d67947eebed4535f2fb9769a5be8784da271560e\n",
            "https://explorer.zksync.io/tx/0x800fb8242e88223b8b0db04f84a6ade2fac0e90e3298493c99f78c7b56b4e0df\n",
            "https://explorer.zksync.io/tx/0xa64b76d0b2904785dc58bd1576876ca152be749ffd5714ba5fff5d8812f10b87\n"
          ]
        },
        {
          "output_type": "stream",
          "name": "stderr",
          "text": [
            "sleep : 205/205\n"
          ]
        },
        {
          "output_type": "stream",
          "name": "stdout",
          "text": [
            "11392.730570977303123178\n",
            "https://explorer.zksync.io/tx/0x08719aef2277dc2435f5cc24a83256ba2a0888e9efc5ed2d2b105a51693d06c4\n",
            "##################################################################################\n",
            "x= 33\n",
            "N- 29 0x3E1EA87B995D4C7aB4FeAc338119FF369f7236EF 0.009144938073372764\n",
            "https://explorer.zksync.io/tx/0x2e54dfb4987633e121841931de7240e534984ae6181e0f7746dfcf2c1bad4891\n"
          ]
        },
        {
          "output_type": "stream",
          "name": "stderr",
          "text": [
            "sleep : 17/17\n"
          ]
        },
        {
          "output_type": "stream",
          "name": "stdout",
          "text": [
            "Approve\n",
            "https://explorer.zksync.io/tx/0xbd0e427ae5482d274c26decaab3717909bb8f3ab58d2fea2de27b6763502b577\n",
            "https://explorer.zksync.io/tx/0x6713162d938d28e74911a33a4d70ad9ee60abdb3905ce9bf67a1a545c9bae5fd\n",
            "https://explorer.zksync.io/tx/0xb41948fcd5d48ed61920592982b23319f8bad5ac6af4f5ab0528a764c1feed0f\n"
          ]
        },
        {
          "output_type": "stream",
          "name": "stderr",
          "text": [
            "sleep : 148/148\n"
          ]
        },
        {
          "output_type": "stream",
          "name": "stdout",
          "text": [
            "2.4709E-14\n",
            "https://explorer.zksync.io/tx/0x2bd8a1a5af604f7583aae373629f0c6e17c12c64ac41de8dd82f4d479a595cde\n",
            "##################################################################################\n",
            "x= 6\n",
            "N- 30 0xa2C71F599F303BE0F80fD53f4eFe5BaF41edE94f 0.008817779674355052\n",
            "https://explorer.zksync.io/tx/0xdb3570df5094ef52daa1f72e85e2e3b703581e276dfccd4c20dd5dcebae3dc59\n"
          ]
        },
        {
          "output_type": "stream",
          "name": "stderr",
          "text": [
            "sleep : 39/39\n"
          ]
        },
        {
          "output_type": "stream",
          "name": "stdout",
          "text": [
            "Approve\n",
            "https://explorer.zksync.io/tx/0xf29e3ebc045001e088bd829c2f354e47fa60f7677aa8728fb28c1a39ef2837dc\n",
            "https://explorer.zksync.io/tx/0xb38eaa491dbb5f395dd3d0d2b3af3d6f4896d4e0e4f9e41458da985207cc4c07\n",
            "https://explorer.zksync.io/tx/0x0ab3ce3108a347c2dd43bdfe6b666733d153c67abedb847dc695ffd64436046f\n"
          ]
        },
        {
          "output_type": "stream",
          "name": "stderr",
          "text": [
            "sleep : 94/94\n"
          ]
        },
        {
          "output_type": "stream",
          "name": "stdout",
          "text": [
            "0.128852873201305494\n",
            "https://explorer.zksync.io/tx/0x6e8ba42b2d67052b1ab6561e27ebf423a6242930fd3b9c8edde5b5e5788cc280\n",
            "##################################################################################\n",
            "x= 10\n",
            "N- 31 0xDb47209CeAec71DA0e0312b6e9D148817a0085E2 0.008855446272290353\n",
            "https://explorer.zksync.io/tx/0xf7a4f07da977a858762f70dca42d32bddd25d610048e40874c6b90f2bd4ebcc6\n"
          ]
        },
        {
          "output_type": "stream",
          "name": "stderr",
          "text": [
            "sleep : 28/28\n"
          ]
        },
        {
          "output_type": "stream",
          "name": "stdout",
          "text": [
            "Approve\n",
            "https://explorer.zksync.io/tx/0xeffcecbd1cd62bbe9ae85d0583e41623f888a300b362a212dc88d42a0b593ca1\n",
            "https://explorer.zksync.io/tx/0x3dcde2064e2ff812195ec15f4abedba2593c3c31e2963776bcc819ce0581e08d\n",
            "https://explorer.zksync.io/tx/0xfc779e5d01719d45160083205c01a11e24b474f169e209412100c1d5dc982c3a\n"
          ]
        },
        {
          "output_type": "stream",
          "name": "stderr",
          "text": [
            "sleep : 244/244\n"
          ]
        },
        {
          "output_type": "stream",
          "name": "stdout",
          "text": [
            "0.044309008462006861\n",
            "https://explorer.zksync.io/tx/0x9215932cab44941be35e21d7ace8883f86bdb1215902c9ac1448ee58eb324173\n",
            "##################################################################################\n",
            "x= 16\n",
            "N- 32 0xC4A7848E0E0dB8A14F30A78124843656065B1F37 0.0095305734046123\n",
            "https://explorer.zksync.io/tx/0x9a51e96a9b4b96448647f1509d29f2053baf31c5056a561c107bfff802293420\n"
          ]
        },
        {
          "output_type": "stream",
          "name": "stderr",
          "text": [
            "sleep : 21/21\n"
          ]
        },
        {
          "output_type": "stream",
          "name": "stdout",
          "text": [
            "Approve\n",
            "https://explorer.zksync.io/tx/0x177e2b835ce90af88c4c2c4e0f532da1244615b6df92586f3ab9e0f0ebea7ea7\n",
            "https://explorer.zksync.io/tx/0x8f122c717f55e82e63377bc0883cd89b3373231629ada6d3a3053b80e882ad7f\n",
            "https://explorer.zksync.io/tx/0x06ca1ac202b475212b7d79a09679e19f73bfa55cb6ea16e51104ee41c88170e3\n"
          ]
        },
        {
          "output_type": "stream",
          "name": "stderr",
          "text": [
            "sleep : 218/218\n"
          ]
        },
        {
          "output_type": "stream",
          "name": "stdout",
          "text": [
            "8059.599163713904028611\n",
            "https://explorer.zksync.io/tx/0x8d73958b2bcf13b4bbd8c1f83c1e9df4115ad857cfb78e6de187df005a817cae\n",
            "##################################################################################\n",
            "x= 22\n",
            "N- 33 0x1d6039d97e7e01d34C06c1Fe6fb947e1d349E73F 0.008808926546605168\n",
            "https://explorer.zksync.io/tx/0x9f2ef97a4b35692fd9722d13825051a445b692517d7c8bfe4dca8c52f7e5dbf0\n"
          ]
        },
        {
          "output_type": "stream",
          "name": "stderr",
          "text": [
            "sleep : 26/26\n"
          ]
        },
        {
          "output_type": "stream",
          "name": "stdout",
          "text": [
            "Approve\n",
            "https://explorer.zksync.io/tx/0x4a444ed7587ead2a4cb473b3041db44dd568efbc5bbd2f4a4a0507658e732590\n",
            "https://explorer.zksync.io/tx/0xd91d85fbc21f14370fc91e67d9cf91f5a7f26d628f53be18a2f6d345d121a591\n",
            "https://explorer.zksync.io/tx/0x24965afa09134154a719fec7724cff5013c2c2f4df1360b94a0d75e12e4dfb4c\n"
          ]
        },
        {
          "output_type": "stream",
          "name": "stderr",
          "text": [
            "sleep : 129/129\n"
          ]
        },
        {
          "output_type": "stream",
          "name": "stdout",
          "text": [
            "4.018875615521237727\n",
            "https://explorer.zksync.io/tx/0x2b128a05a64f63fe30a2625ca2fe963ec21fc7a5fbce73d9dcb78f9a92fee4f8\n",
            "##################################################################################\n",
            "x= 26\n",
            "N- 34 0xAe6bB701Cc057170f3cf1c98eBa7Db14D8c0Aa4A 0.008846770062339193\n",
            "https://explorer.zksync.io/tx/0x0215cfb28af44c6627e595ce667c84371b07d376dfba09bb18d7130a34699fb7\n"
          ]
        },
        {
          "output_type": "stream",
          "name": "stderr",
          "text": [
            "sleep : 42/42\n"
          ]
        },
        {
          "output_type": "stream",
          "name": "stdout",
          "text": [
            "Approve\n",
            "https://explorer.zksync.io/tx/0xe8b76153e81d6dd25e8a3ab57f2999c68a3b3c095b643e479314e9fecbf347f5\n",
            "https://explorer.zksync.io/tx/0xd691e8cf1dc3610675ecfbaf03bba4979ac6e64d5489a248997d584d16aa7901\n",
            "https://explorer.zksync.io/tx/0xb061bd9f29e611ddd1e145b6d4426bf173e47d9ca4bfbf981897106fe47333c1\n"
          ]
        },
        {
          "output_type": "stream",
          "name": "stderr",
          "text": [
            "sleep : 251/251\n"
          ]
        },
        {
          "output_type": "stream",
          "name": "stdout",
          "text": [
            "0\n",
            "!!!!!!!!\n",
            "x= 6\n",
            "N- 35 0x7E4830a7481889CB2c543c4E56e48F56e5627aFe 0.008473017317975348\n",
            "https://explorer.zksync.io/tx/0x8f64821b7453fe00730d6d655d82d10d919c0e0ab61195ba396d10df2963ab99\n"
          ]
        },
        {
          "output_type": "stream",
          "name": "stderr",
          "text": [
            "sleep : 46/46\n"
          ]
        },
        {
          "output_type": "stream",
          "name": "stdout",
          "text": [
            "Approve\n",
            "https://explorer.zksync.io/tx/0xe501615797ee3bf68cb1b2abe15b665b4a87d4f6b9be96647b4c0f64d3838568\n",
            "https://explorer.zksync.io/tx/0x77d2ff43b76dadab0b05294be225b168e087ddcbf418ba75cd337ccf8867ad58\n",
            "https://explorer.zksync.io/tx/0xa8321a7a2d3692f181d73d3862f3f18b6ef898560ef8beaa0f00a5a1ec69d30e\n"
          ]
        },
        {
          "output_type": "stream",
          "name": "stderr",
          "text": [
            "sleep : 89/89\n"
          ]
        },
        {
          "output_type": "stream",
          "name": "stdout",
          "text": [
            "0.214754480404179349\n",
            "https://explorer.zksync.io/tx/0xdf4f213d92447b16d6ea3a4e10f16dedf4f6a85cd3f4bbb9e8450ce0ec024958\n",
            "##################################################################################\n",
            "x= 25\n",
            "N- 36 0x0ff5d842839752842934608b5bD7b8bD402f2808 0.009821012999991092\n",
            "https://explorer.zksync.io/tx/0xcc92883c46bec923430a1075ac84206180c2c3e62d86c5ed24d27feb9784c4c3\n"
          ]
        },
        {
          "output_type": "stream",
          "name": "stderr",
          "text": [
            "sleep : 33/33\n"
          ]
        },
        {
          "output_type": "stream",
          "name": "stdout",
          "text": [
            "Approve\n",
            "https://explorer.zksync.io/tx/0xc51fde288535162dee040df4f8017b3ffbca2c19c9d84f4b01e03deab174052f\n",
            "https://explorer.zksync.io/tx/0x94a6cc680f53271416563d4179fc6e502a7b4f264eb2db335ce3007cbe23016f\n",
            "https://explorer.zksync.io/tx/0xc39d2636aae7f04713bb3f54317fc241e01a9e4f0b3ce9c43ac2f8558569f69b\n"
          ]
        },
        {
          "output_type": "stream",
          "name": "stderr",
          "text": [
            "sleep : 238/238\n"
          ]
        },
        {
          "output_type": "stream",
          "name": "stdout",
          "text": [
            "40385069.016990315626038142\n",
            "https://explorer.zksync.io/tx/0x37abd2a1f059b4b0df024f40e99e0a1a66316e6354a5279cd2a78162ed3c8ddd\n",
            "##################################################################################\n",
            "x= 13\n",
            "N- 37 0x7Bc1F9E28356BFCbBfCDcF24298cF22b1A2f998A 0.009041891996481574\n",
            "https://explorer.zksync.io/tx/0x1f27c1256497492f6c4a47eb43432a5672c1dce3a347aec323d49b5dac96031f\n"
          ]
        },
        {
          "output_type": "stream",
          "name": "stderr",
          "text": [
            "sleep : 16/16\n"
          ]
        },
        {
          "output_type": "stream",
          "name": "stdout",
          "text": [
            "Approve\n",
            "https://explorer.zksync.io/tx/0xd7abe8c628e3c44024adb0fd61417c482012816ef8e90a18e3edc90e48cf771a\n",
            "https://explorer.zksync.io/tx/0xfdf0d7d8d10c6292f8ed58e40d8bde079329d3f3aac72e910ccf1c2d8eb78cde\n",
            "https://explorer.zksync.io/tx/0x5f2ddf1c6b225f68db95e025f18307ddfbdd0f661b114b34aef495935731c448\n"
          ]
        },
        {
          "output_type": "stream",
          "name": "stderr",
          "text": [
            "sleep : 154/154\n"
          ]
        },
        {
          "output_type": "stream",
          "name": "stdout",
          "text": [
            "5.8339E-14\n",
            "https://explorer.zksync.io/tx/0x67b3905e0e24e2145477f95c24b7524fb67888a547231e1c77255a889c2a5f2d\n",
            "##################################################################################\n",
            "x= 20\n",
            "N- 38 0x9B6fE40Dbe36997880241Cc70Ce839A01FB757a3 0.009146665145062055\n",
            "https://explorer.zksync.io/tx/0x5b4cfcfbf9a54c8635965ea5177aa8c4b0f812f727dfcf5d69876745cb64fb81\n"
          ]
        },
        {
          "output_type": "stream",
          "name": "stderr",
          "text": [
            "sleep : 21/21\n"
          ]
        },
        {
          "output_type": "stream",
          "name": "stdout",
          "text": [
            "Approve\n",
            "https://explorer.zksync.io/tx/0xd7722b7b72430c4561a25e8b8d1edeeba1ed6e19351039ae08f4a607b63382f0\n",
            "https://explorer.zksync.io/tx/0xe3f0455087c3da5422520af43449741e79b0093aad262212cd7dd88ba8a50ab7\n",
            "https://explorer.zksync.io/tx/0xc75efbd8991f64874011efa2e91af2b87a13fd6085ed51b214d5c5070fa8a4df\n"
          ]
        },
        {
          "output_type": "stream",
          "name": "stderr",
          "text": [
            "sleep : 271/271\n"
          ]
        },
        {
          "output_type": "stream",
          "name": "stdout",
          "text": [
            "2.441836996805015427\n",
            "https://explorer.zksync.io/tx/0xdc280a667f19e059bd5313875042e2be2ee323bd49c362233849705df17ebe69\n",
            "##################################################################################\n",
            "x= 23\n",
            "N- 39 0x3C4A187d35554CB571D1D0a66554938c79707FF0 0.007575435946001907\n",
            "https://explorer.zksync.io/tx/0xb61312bc362fb84a367070d574189797c911bd96d31488684573c46fc1502c82\n"
          ]
        },
        {
          "output_type": "stream",
          "name": "stderr",
          "text": [
            "sleep : 15/15\n"
          ]
        },
        {
          "output_type": "stream",
          "name": "stdout",
          "text": [
            "Approve\n",
            "https://explorer.zksync.io/tx/0x39c2c9d0f37bcde5271382ae8b0cf0f16929617b09cfb11bb107dfb67fddaaea\n",
            "https://explorer.zksync.io/tx/0xc508ffadca263fc6a7fe8d40da50908e772237b9d48ad15aae8ad0c37ab8dc32\n",
            "https://explorer.zksync.io/tx/0x69f92f325829821169bf8d670175c862f80fda6f2546c94cc9090d8cfee3edd6\n"
          ]
        },
        {
          "output_type": "stream",
          "name": "stderr",
          "text": [
            "sleep : 216/216\n"
          ]
        },
        {
          "output_type": "stream",
          "name": "stdout",
          "text": [
            "0.62527309794517184\n",
            "https://explorer.zksync.io/tx/0xa723474f01bd6861d4750377d508b8f8192729916d268849aed3bae06f2997ae\n",
            "##################################################################################\n",
            "x= 1\n",
            "N- 40 0x6aD4bD18871486C136804a2020723bf228Dfad76 0.008796646103093465\n",
            "https://explorer.zksync.io/tx/0xb0611c4cd7048cf9fb7121134302d436827ffb2ab9da76d8315b2505767ecea1\n"
          ]
        },
        {
          "output_type": "stream",
          "name": "stderr",
          "text": [
            "sleep : 53/53\n"
          ]
        },
        {
          "output_type": "stream",
          "name": "stdout",
          "text": [
            "Approve\n",
            "https://explorer.zksync.io/tx/0x4e41cbb0e42224664f14ee65ae3a41c9ae1e92785f7d07ab00d0de5c6f8452dc\n",
            "https://explorer.zksync.io/tx/0x6b1e678cb803751fafee81a167b3aa862f98b4a60a9befedbcc09639eeb0cf1d\n",
            "https://explorer.zksync.io/tx/0xd14e67298f850769312b947a7ea28460573975e4ada871c3edf7ed5bc45431bb\n"
          ]
        },
        {
          "output_type": "stream",
          "name": "stderr",
          "text": [
            "sleep : 82/82\n"
          ]
        },
        {
          "output_type": "stream",
          "name": "stdout",
          "text": [
            "190268847.545706234439417366\n",
            "https://explorer.zksync.io/tx/0x84d3b02dd272ce262b9713d532285bb57057478b1ed4025d0c41148e416be5c0\n",
            "##################################################################################\n",
            "x= 21\n",
            "N- 41 0xa78298BcBB281886713eB2069931bD9C54813911 0.009122592723607487\n",
            "https://explorer.zksync.io/tx/0x7f06b228cfb74657d071c17d870b1c8c63018812904ee2978941acb65a03f4cd\n"
          ]
        },
        {
          "output_type": "stream",
          "name": "stderr",
          "text": [
            "sleep : 19/19\n"
          ]
        },
        {
          "output_type": "stream",
          "name": "stdout",
          "text": [
            "Approve\n",
            "https://explorer.zksync.io/tx/0x0cff6da74cce68af3cfa9a1d7cc04f7fb109cfcff0b5ffd7f81de97054e975ee\n",
            "https://explorer.zksync.io/tx/0x899e51d18178e9f9949fdac29987853b350018cff8201e8027f0c051bae9955a\n",
            "https://explorer.zksync.io/tx/0xdfa3cfc3949759156fd2bbe2e38160564a5bb2eaafd75f3f2541ed96695f879b\n"
          ]
        },
        {
          "output_type": "stream",
          "name": "stderr",
          "text": [
            "sleep : 148/148\n"
          ]
        },
        {
          "output_type": "stream",
          "name": "stdout",
          "text": [
            "0\n",
            "!!!!!!!!\n",
            "x= 18\n",
            "N- 42 0x342E56EC787cF352cd62b7f66E6D2c351935A9F4 0.008855994995665942\n",
            "https://explorer.zksync.io/tx/0x870a857a8fa44a15b7f3b63cf88dbb4fc915f4c05f8830c795079be7f16c02b2\n"
          ]
        },
        {
          "output_type": "stream",
          "name": "stderr",
          "text": [
            "sleep : 49/49\n"
          ]
        },
        {
          "output_type": "stream",
          "name": "stdout",
          "text": [
            "Approve\n",
            "https://explorer.zksync.io/tx/0xae142737834e4e6209d4811328d4e514dbf27767d398ae4d71dbc494afc1c43d\n",
            "https://explorer.zksync.io/tx/0xc39b086f714d06c183534fe56fd1c0ed5299a9627bd17b24929bf5ad5fd3eb18\n",
            "https://explorer.zksync.io/tx/0x0de44b56f1d5946722f95c9409f62ba73e1e63926adb25a0fa276fdba048b493\n"
          ]
        },
        {
          "output_type": "stream",
          "name": "stderr",
          "text": [
            "sleep : 111/111\n"
          ]
        },
        {
          "output_type": "stream",
          "name": "stdout",
          "text": [
            "3.6727909E-11\n",
            "https://explorer.zksync.io/tx/0xce5279a43da1136486fdf450471a455a0ed831601f0630c71a5b160010568613\n",
            "##################################################################################\n",
            "x= 9\n",
            "N- 43 0x31D22dd981d3406E2d4A8235795b03Df0e476D5e 0.010151491734047721\n",
            "https://explorer.zksync.io/tx/0xcf877c51642e160d6cf341382d08323a16f3556e4f6bd9e20a47231813704f64\n"
          ]
        },
        {
          "output_type": "stream",
          "name": "stderr",
          "text": [
            "sleep : 51/51\n"
          ]
        },
        {
          "output_type": "stream",
          "name": "stdout",
          "text": [
            "Approve\n",
            "https://explorer.zksync.io/tx/0xcc6d31093b317ed1f42ebc9f67010f164c06d91f2f3757973d85fdaa4e492cef\n",
            "https://explorer.zksync.io/tx/0xcb178a9aeafc18a63216d02cd2e17e735446f53408eb453b7e7fff55f0f2b58f\n",
            "https://explorer.zksync.io/tx/0xdc67dd31d6b29eb22e66ebf05826dc4a6c3c35a2bebce59d33b5351ed9cdf9fd\n"
          ]
        },
        {
          "output_type": "stream",
          "name": "stderr",
          "text": [
            "sleep : 192/192\n"
          ]
        },
        {
          "output_type": "stream",
          "name": "stdout",
          "text": [
            "9.999430068360598543\n",
            "https://explorer.zksync.io/tx/0xfd2b2f163d0b3d52c130d5867a346bcb9530eb75eed8468cd38fdef74a503dad\n",
            "##################################################################################\n",
            "x= 2\n",
            "N- 44 0x84731090a8e7833e56FD9D261bfc9480FC6B147E 0.009664956284172551\n",
            "https://explorer.zksync.io/tx/0xf2f62b4dfa58496519965910b74fa70bb7fcc0ebf9d8e8c4d88243e2c731bccd\n"
          ]
        },
        {
          "output_type": "stream",
          "name": "stderr",
          "text": [
            "sleep : 17/17\n"
          ]
        },
        {
          "output_type": "stream",
          "name": "stdout",
          "text": [
            "Approve\n",
            "https://explorer.zksync.io/tx/0x588757dbb482fb0787a4c4c7762607b744b953c7056a3608798522a604e04f0b\n",
            "https://explorer.zksync.io/tx/0x7b6658e42c6b426f51f57e3f0ddaca832f61605a2e189cfdf5f01c83cb89dd6f\n",
            "https://explorer.zksync.io/tx/0x4768af4b40e17540eea09bd4e620574ff8dcce261794a60f8e76c0aad40bb8e1\n"
          ]
        },
        {
          "output_type": "stream",
          "name": "stderr",
          "text": [
            "sleep : 230/230\n"
          ]
        },
        {
          "output_type": "stream",
          "name": "stdout",
          "text": [
            "0.008637968827856591\n",
            "https://explorer.zksync.io/tx/0xcabc960edcf992427cf94e3034c14b0d4cc1922259db9ea035c07404f49e0481\n",
            "##################################################################################\n",
            "x= 16\n",
            "N- 45 0x9cc9E8369c29047fE95504f1705cB13768D9E229 0.009287403531167002\n",
            "https://explorer.zksync.io/tx/0xac9022d1dd4b626a73e46a9419c27204eba18d543b7bb6c74cf2de40cf5f367c\n"
          ]
        },
        {
          "output_type": "stream",
          "name": "stderr",
          "text": [
            "sleep : 24/24\n"
          ]
        },
        {
          "output_type": "stream",
          "name": "stdout",
          "text": [
            "Approve\n",
            "https://explorer.zksync.io/tx/0x0cfb146a9ca5395118923443544271d3206b1a771bd84c66bee2228bb3ed3651\n",
            "https://explorer.zksync.io/tx/0xa0fbd40b339eb907022e7d48b57da15890a0f23896f5658aef08f9ee57deb4d2\n",
            "https://explorer.zksync.io/tx/0x61c30a51fd14db8fc4f738b556ebee1188218e9c1bb494fee5ac977f2b7ee174\n"
          ]
        },
        {
          "output_type": "stream",
          "name": "stderr",
          "text": [
            "sleep : 203/203\n"
          ]
        },
        {
          "output_type": "stream",
          "name": "stdout",
          "text": [
            "13066.384235134404051433\n",
            "https://explorer.zksync.io/tx/0x63a125090bcd9fa0f629c770fbd7ace17a463eea4858ba1a67d3ff51e640d91c\n",
            "##################################################################################\n",
            "x= 5\n",
            "N- 46 0x1bB1f36A5d3E3e6d723CDb12efa99281F791E424 0.009170151405609464\n",
            "https://explorer.zksync.io/tx/0xeec1faee277b05a8bac98dd746e5eb97369c1ccd86c886c1b45b73c35eb390bf\n"
          ]
        },
        {
          "output_type": "stream",
          "name": "stderr",
          "text": [
            "sleep : 49/49\n"
          ]
        },
        {
          "output_type": "stream",
          "name": "stdout",
          "text": [
            "Approve\n",
            "https://explorer.zksync.io/tx/0xbff4838f35cb0a3203d9b02fdc72c2fd53bf0330ae27817114a07dcc9dc2111b\n",
            "https://explorer.zksync.io/tx/0x4faf096672818a0fe1500a65900c663203c9145f08342aee64f100d74ed5f3c1\n",
            "https://explorer.zksync.io/tx/0x4ff651b037eec46d652e8642b06e824b15f5f8f4283218cdfd726398d0a83328\n"
          ]
        },
        {
          "output_type": "stream",
          "name": "stderr",
          "text": [
            "sleep : 271/271\n"
          ]
        },
        {
          "output_type": "stream",
          "name": "stdout",
          "text": [
            "0.09297498716752567\n",
            "https://explorer.zksync.io/tx/0x5197280adc34aaff073cd0bac8560c4bedd129a475e538ca6f68d99b1cb664c5\n",
            "##################################################################################\n",
            "x= 6\n",
            "N- 47 0x65c5ab5ECe0D8207D4Be925a65ef863Aef4295df 0.009106727749991023\n",
            "https://explorer.zksync.io/tx/0x96485ef33dd4e507b972c630db722385976beba10629da5b3d157953923cd8da\n"
          ]
        },
        {
          "output_type": "stream",
          "name": "stderr",
          "text": [
            "sleep : 41/41\n"
          ]
        },
        {
          "output_type": "stream",
          "name": "stdout",
          "text": [
            "Approve\n",
            "https://explorer.zksync.io/tx/0xed36b976038fb6c108b039d7a85430ee52a5b47dd71afd50883b74963b4ae10b\n",
            "https://explorer.zksync.io/tx/0x9eeabe369c2686a291b5e22691092a52e6e19132e6cbe3978562c9a78336d119\n",
            "https://explorer.zksync.io/tx/0x1165c218a730b7c1edcdf3676e3c64e515c2891a348e08aa3fa7bae1502d5e5e\n"
          ]
        },
        {
          "output_type": "stream",
          "name": "stderr",
          "text": [
            "sleep : 192/192\n"
          ]
        },
        {
          "output_type": "stream",
          "name": "stdout",
          "text": [
            "0.085879253183083565\n",
            "https://explorer.zksync.io/tx/0x53e879d609cbbfaf81da42da91cbd039e8893fcb9db31510d3858729b701fd57\n",
            "##################################################################################\n",
            "x= 21\n",
            "N- 48 0x01913b898ab60A470eE1c9e7A2B1DffE07a56249 0.00845361862213279\n",
            "https://explorer.zksync.io/tx/0x927118fbeaa9a38148a84ba1e0946da8b7e8412e7e040e55ea8e453134c6e3a7\n"
          ]
        },
        {
          "output_type": "stream",
          "name": "stderr",
          "text": [
            "sleep : 15/15\n"
          ]
        },
        {
          "output_type": "stream",
          "name": "stdout",
          "text": [
            "Approve\n",
            "https://explorer.zksync.io/tx/0x199f6f6087a90fa6582c0336605bc964c6791977e4352958aefa846bd8e8221a\n",
            "https://explorer.zksync.io/tx/0x25ba4952fe90e96bc479fa8281be53a5fa55464e7777ebb745574941599778f8\n",
            "https://explorer.zksync.io/tx/0x97fde622d541dc83fa1e17202ad372bd61f8d1489dac9f69b665b79f14580b1a\n"
          ]
        },
        {
          "output_type": "stream",
          "name": "stderr",
          "text": [
            "sleep : 144/144\n"
          ]
        },
        {
          "output_type": "stream",
          "name": "stdout",
          "text": [
            "0\n",
            "!!!!!!!!\n",
            "x= 24\n",
            "N- 49 0xD1b16411F73f8c5379d2B23d58D52602f26Defe1 0.009519443528431547\n",
            "https://explorer.zksync.io/tx/0x47fc8d50710e482a47114139b423c3764b122745c71b4ac3df2b3e8f3f6b5cd0\n"
          ]
        },
        {
          "output_type": "stream",
          "name": "stderr",
          "text": [
            "sleep : 21/21\n"
          ]
        },
        {
          "output_type": "stream",
          "name": "stdout",
          "text": [
            "Approve\n",
            "https://explorer.zksync.io/tx/0xf30b92f92b22afc486d942a156df4b1e53b4993a5bb148f890bf30233dc0eec3\n",
            "https://explorer.zksync.io/tx/0x52538217e3066aaa740959b7a3b6d98fb9c637446e2d44a4cba323571ba6b772\n",
            "https://explorer.zksync.io/tx/0x78e7ea38108ec49d29468373b495f0b81ad932d4f113f71d3dc486ce9f167c18\n"
          ]
        },
        {
          "output_type": "stream",
          "name": "stderr",
          "text": [
            "sleep : 261/261\n"
          ]
        },
        {
          "output_type": "stream",
          "name": "stdout",
          "text": [
            "7.065639988264422376\n",
            "https://explorer.zksync.io/tx/0xb2d98a95adaa0dda5d8feeeacb09e6573076064807b45e347817349e6848ccf8\n",
            "##################################################################################\n",
            "x= 35\n",
            "N- 50 0xD0BC18ECe100Bf6bb7A436EA14437D72F675983F 0.008624287494722405\n",
            "https://explorer.zksync.io/tx/0x9a43c8101695380fafbf9085879724b4e24ace1ce404de27052ad435aff5bb11\n"
          ]
        },
        {
          "output_type": "stream",
          "name": "stderr",
          "text": [
            "sleep : 28/28\n"
          ]
        },
        {
          "output_type": "stream",
          "name": "stdout",
          "text": [
            "Approve\n",
            "https://explorer.zksync.io/tx/0xc9aa5f191b787fccc269e3d1c8edd3a957daf8475498739abf893c2763e4bef6\n",
            "https://explorer.zksync.io/tx/0x3d912e6830add8eff75d2b43c1954d02ec433fb8983127b8630fd4f170e4208f\n",
            "https://explorer.zksync.io/tx/0x637619e861b23d36768dc102259c56a1476029d934188304f63e6b9e53ca41d2\n"
          ]
        },
        {
          "output_type": "stream",
          "name": "stderr",
          "text": [
            "sleep : 165/165\n"
          ]
        },
        {
          "output_type": "stream",
          "name": "stdout",
          "text": [
            "0\n",
            "!!!!!!!!\n"
          ]
        }
      ],
      "source": [
        "token = ''\n",
        "contract = zenpanda_contract\n",
        "pool = ''\n",
        "do = [zenpanda,hodl,dvf,cheems,sis,itp,zz,govi,ful,mav,kat,ugold,\n",
        "      zkusd,frax,pepe,shib,meow,pvp,zf,piko,era,vc,space,ot,beany,\n",
        "      titi,snrk,mute,pepera,zkid,wefi,lusd,usdplus,zkdoge,tiusd]\n",
        "\n",
        "with open(\"/content/keys\", \"r\") as f:\n",
        "  keys_list = [row.strip() for row in f]\n",
        "random.shuffle(keys_list)\n",
        "\n",
        "k=0\n",
        "for x in keys_list:\n",
        "  k=k+1\n",
        "  privatekey = x\n",
        "  wallet = w3.eth.account.from_key(privatekey)\n",
        "  address = w3.to_checksum_address(wallet.address)\n",
        "  nonce = w3.eth.get_transaction_count(address)\n",
        "  eth_balance = w3.eth.get_balance(address)\n",
        "\n",
        "  x = random.randint(1,35)\n",
        "  if x == 1 :\n",
        "    token = zenpanda\n",
        "    pool = zenpandapool\n",
        "    contract = zenpanda_contract\n",
        "  elif x == 2 :\n",
        "    token = hodl\n",
        "    pool = hodlpool\n",
        "    contract = hodl_contract\n",
        "  elif x == 3 :\n",
        "    token = dvf\n",
        "    pool = dvfpool\n",
        "    contract = dvf_contract\n",
        "  elif x == 4 :\n",
        "    token = cheems\n",
        "    pool = cheemspool\n",
        "    contract = cheems_contract\n",
        "  elif x == 5 :\n",
        "    token = sis\n",
        "    pool = sispool\n",
        "    contract = sis_contract\n",
        "  elif x == 6 :\n",
        "    token = itp\n",
        "    pool = itppool\n",
        "    contract = itp_contract\n",
        "  elif x == 7 :\n",
        "    token = zz\n",
        "    pool = zzpool\n",
        "    contract = zz_contract\n",
        "  elif x == 8 :\n",
        "    token = hodl\n",
        "    pool = hodlpool\n",
        "    contract = hodl_contract\n",
        "  elif x == 9 :\n",
        "    token = ful\n",
        "    pool = fulpool\n",
        "    contract = ful_contract\n",
        "  elif x == 10 :\n",
        "    token = mav\n",
        "    pool = mavpool\n",
        "    contract = mav_contract\n",
        "  elif x == 11 :\n",
        "    token = kat\n",
        "    pool = katpool\n",
        "    contract = kat_contract\n",
        "  elif x == 12 :\n",
        "    token = ugold\n",
        "    pool = ugoldpool\n",
        "    contract = ugold_contract\n",
        "  elif x == 13 :\n",
        "    token = zkusd\n",
        "    pool = zkusdpool\n",
        "    contract = zkusd_contract\n",
        "  elif x == 14 :\n",
        "    token = frax\n",
        "    pool = fraxpool\n",
        "    contract = frax_contract\n",
        "  elif x == 15 :\n",
        "    token = pepe\n",
        "    pool = pepepool\n",
        "    contract = pepe_contract\n",
        "  elif x == 16 :\n",
        "    token = shib\n",
        "    pool = shibpool\n",
        "    contract = shib_contract\n",
        "  elif x == 17 :\n",
        "    token = meow\n",
        "    pool = meowpool\n",
        "    contract = meow_contract\n",
        "  elif x == 18 :\n",
        "    token = pvp\n",
        "    pool = pvppool\n",
        "    contract = pvp_contract\n",
        "  elif x == 19 :\n",
        "    token = zf\n",
        "    pool = zfpool\n",
        "    contract = zf_contract\n",
        "  elif x == 20 :\n",
        "    token = piko\n",
        "    pool = pikopool\n",
        "    contract = piko_contract\n",
        "  elif x == 21 :\n",
        "    token = era\n",
        "    pool = erapool\n",
        "    contract = era_contract\n",
        "  elif x == 22 :\n",
        "    token = vc\n",
        "    pool = vcpool\n",
        "    contract = vc_contract\n",
        "  elif x == 23 :\n",
        "    token = space\n",
        "    pool = spacepool\n",
        "    contract = space_contract\n",
        "  elif x == 24 :\n",
        "    token = ot\n",
        "    pool = otpool\n",
        "    contract = ot_contract\n",
        "  elif x == 25 :\n",
        "    token = beany\n",
        "    pool = beanypool\n",
        "    contract = beany_contract\n",
        "  elif x == 26 :\n",
        "    token = titi\n",
        "    pool = titipool\n",
        "    contract = titi_contract\n",
        "  elif x == 27 :\n",
        "    token = snrk\n",
        "    pool = snrkpool\n",
        "    contract = snrk_contract\n",
        "  elif x == 28 :\n",
        "    token = mute\n",
        "    pool = mutepool\n",
        "    contract = mute_contract\n",
        "  elif x == 29 :\n",
        "    token = pepera\n",
        "    pool = peperapool\n",
        "    contract = pepera_contract\n",
        "  elif x == 30 :\n",
        "    token = zkid\n",
        "    pool = zkidpool\n",
        "    contract = zkid_contract\n",
        "  elif x == 31 :\n",
        "    token = wefi\n",
        "    pool = wefipool\n",
        "    contract = wefi_contract\n",
        "  elif x == 32 :\n",
        "    token = lusd\n",
        "    pool = lusdpool\n",
        "    contract = lusd_contract\n",
        "  elif x == 33 :\n",
        "    token = usdplus\n",
        "    pool = usdpluspool\n",
        "    contract = usdplus_contract\n",
        "  elif x == 34 :\n",
        "    token = zkdoge\n",
        "    pool = zkdogepool\n",
        "    contract = zkdoge_contract\n",
        "  elif x == 35 :\n",
        "    token = tiusd\n",
        "    pool = tiusdpool\n",
        "    contract = tiusd_contract\n",
        "\n",
        "\n",
        "\n",
        "\n",
        "  print('x=',x)\n",
        "  print('N-',k,address,w3.from_wei(eth_balance,'ether'))\n",
        "\n",
        "  if eth_balance  > 0:\n",
        "    try:\n",
        "      value = w3.to_wei(round(random.uniform(0.00001,0.00005),6),'ether')\n",
        "      min = 0\n",
        "\n",
        "      swapData = encode(\n",
        "        [\"address\", \"address\", \"uint8\"],\n",
        "        [weth, address, withdrawMode]);\n",
        "\n",
        "      steps = [{\n",
        "        'pool': pool,\n",
        "        'data': swapData,\n",
        "        'callback': ZERO_ADDRESS, ## we don't have a callback\n",
        "        'callbackData' : '0x'\n",
        "          }]\n",
        "##We have only 1 path.\n",
        "      paths = [{\n",
        "        'steps': steps,\n",
        "        'tokenIn': ZERO_ADDRESS,\n",
        "        'amountIn': value\n",
        "          }]\n",
        "\n",
        "      g = random.randint(30000,100000)\n",
        "      tx = router_contract.functions.swap(paths,min,int(time.time()+300)).build_transaction({\n",
        "       'nonce' : nonce,\n",
        "       'gas' : 2200000+g,\n",
        "       'gasPrice' : round(w3.eth.gas_price*1.15),\n",
        "       'from' : w3.to_checksum_address(address),\n",
        "       'value' : value\n",
        "        })\n",
        "      tx_signed = w3.eth.account.sign_transaction(tx, privatekey)\n",
        "      tx_hash = w3.eth.send_raw_transaction(tx_signed.rawTransaction)\n",
        "      print('https://explorer.zksync.io/tx/'+str(w3.to_hex(tx_hash)))\n",
        "      d = random.randint(15,53)\n",
        "      for i in tqdm(range(d), desc='sleep ', bar_format='{desc}: {n_fmt}/{total_fmt}'):\n",
        "        time.sleep(1)\n",
        "      receipt = w3.eth.wait_for_transaction_receipt(tx_hash)\n",
        "\n",
        "      approved = contract.functions.allowance(address,router_address).call()\n",
        "      if approved == 0 :\n",
        "        print('Approve')\n",
        "        nonce = w3.eth.get_transaction_count(address)\n",
        "        g = random.randint(30000,100000)\n",
        "        approve = contract.functions.approve(w3.to_checksum_address(router_address), 115792089237316195423570985008687907853269984665640564039457584007913129639935)\n",
        "        tx = approve.build_transaction({\n",
        "          'nonce' : nonce,\n",
        "          'gas' : 1100000+g,\n",
        "          'gasPrice' : round(w3.eth.gas_price*1.2)\n",
        "          })\n",
        "        tx_signed = w3.eth.account.sign_transaction(tx, privatekey)\n",
        "        tx_hash = w3.eth.send_raw_transaction(tx_signed.rawTransaction)\n",
        "        print('https://explorer.zksync.io/tx/'+str(w3.to_hex(tx_hash)))\n",
        "\n",
        "        y = random.choice(do)\n",
        "        nonce = nonce+1\n",
        "        contract1 = w3.eth.contract(y, abi = usdc_abi)\n",
        "        g = random.randint(30000,100000)\n",
        "        approve = contract1.functions.approve(w3.to_checksum_address(router_address), 115792089237316195423570985008687907853269984665640564039457584007913129639935)\n",
        "        tx = approve.build_transaction({\n",
        "          'nonce' : nonce,\n",
        "          'gas' : 1000000+g,\n",
        "          'gasPrice' : round(w3.eth.gas_price*1.1)\n",
        "          })\n",
        "        tx_signed = w3.eth.account.sign_transaction(tx, privatekey)\n",
        "        tx_hash = w3.eth.send_raw_transaction(tx_signed.rawTransaction)\n",
        "        print('https://explorer.zksync.io/tx/'+str(w3.to_hex(tx_hash)))\n",
        "\n",
        "        y = random.choice(do)\n",
        "        nonce = nonce+1\n",
        "        contract1 = w3.eth.contract(y, abi = usdc_abi)\n",
        "        g = random.randint(30000,100000)\n",
        "        approve = contract1.functions.approve(w3.to_checksum_address(router_address), 115792089237316195423570985008687907853269984665640564039457584007913129639935)\n",
        "        tx = approve.build_transaction({\n",
        "          'nonce' : nonce,\n",
        "          'gas' : 1000000+g,\n",
        "          'gasPrice' : round(w3.eth.gas_price*1.1)\n",
        "          })\n",
        "        tx_signed = w3.eth.account.sign_transaction(tx, privatekey)\n",
        "        tx_hash = w3.eth.send_raw_transaction(tx_signed.rawTransaction)\n",
        "        print('https://explorer.zksync.io/tx/'+str(w3.to_hex(tx_hash)))\n",
        "\n",
        "        d = random.randint(60,280)\n",
        "        for i in tqdm(range(d), desc='sleep ', bar_format='{desc}: {n_fmt}/{total_fmt}'):\n",
        "          time.sleep(1)\n",
        "\n",
        "##################################################\n",
        "\n",
        "\n",
        "##################################################\n",
        "      token_balance = contract.functions.balanceOf(address).call()\n",
        "      print(w3.from_wei(token_balance,'ether'))\n",
        "      if token_balance == 0 :\n",
        "        time.sleep(120)\n",
        "        token_balance = contract.functions.balanceOf(address).call()\n",
        "        print('!!!!!!!!')\n",
        "\n",
        "      if token_balance > 0 and eth_balance > w3.to_wei(0.0007,'ether'):\n",
        "\n",
        "        nonce = w3.eth.get_transaction_count(address)\n",
        "\n",
        "        value = round(token_balance/1.01)\n",
        "        min = 0\n",
        "\n",
        "        swapData = encode(\n",
        "          [\"address\", \"address\", \"uint8\"],\n",
        "          [token, address, withdrawMode]);\n",
        "\n",
        "        z='0x0000000000000000000000000000000000000000'\n",
        "        steps = [{\n",
        "          'pool': pool ,\n",
        "          'data': swapData,\n",
        "          'callback': z,\n",
        "          'callbackData' : '0x'\n",
        "            }]\n",
        "\n",
        "        paths = [{\n",
        "          'steps': steps,\n",
        "          'tokenIn': token,\n",
        "          'amountIn': value\n",
        "            }]\n",
        "\n",
        "        nonce = w3.eth.get_transaction_count(address)\n",
        "        g = random.randint(30000,100000)\n",
        "        tx = router_contract.functions.swap(paths,min,int(time.time()+100)).build_transaction({\n",
        "         'nonce' : nonce,\n",
        "         'gas' : 2000000+g,\n",
        "         'gasPrice' : round(w3.eth.gas_price*1.15),\n",
        "         'from' : w3.to_checksum_address(address)\n",
        "          })\n",
        "        tx_signed = w3.eth.account.sign_transaction(tx, privatekey)\n",
        "        tx_hash = w3.eth.send_raw_transaction(tx_signed.rawTransaction)\n",
        "        print('https://explorer.zksync.io/tx/'+str(w3.to_hex(tx_hash)))\n",
        "        print('##################################################################################')\n",
        "\n",
        "    except Exception as error:\n",
        "      print(f'>>> ERROR : {address} | {error}')\n",
        "\n",
        "\n",
        "\n",
        "\n",
        "\n",
        "\n"
      ]
    }
  ],
  "metadata": {
    "colab": {
      "provenance": [],
      "include_colab_link": true
    },
    "kernelspec": {
      "display_name": "Python 3",
      "name": "python3"
    },
    "language_info": {
      "name": "python"
    }
  },
  "nbformat": 4,
  "nbformat_minor": 0
}